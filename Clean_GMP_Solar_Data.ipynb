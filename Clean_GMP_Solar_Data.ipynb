{
  "nbformat": 4,
  "nbformat_minor": 0,
  "metadata": {
    "colab": {
      "provenance": [],
      "collapsed_sections": [],
      "toc_visible": true,
      "authorship_tag": "ABX9TyOw1xSlizb63/uM7qpCfOt6",
      "include_colab_link": true
    },
    "kernelspec": {
      "name": "python3",
      "display_name": "Python 3"
    },
    "language_info": {
      "name": "python"
    }
  },
  "cells": [
    {
      "cell_type": "markdown",
      "metadata": {
        "id": "view-in-github",
        "colab_type": "text"
      },
      "source": [
        "<a href=\"https://colab.research.google.com/github/syphax/solar-data/blob/main/Clean_GMP_Solar_Data.ipynb\" target=\"_parent\"><img src=\"https://colab.research.google.com/assets/colab-badge.svg\" alt=\"Open In Colab\"/></a>"
      ]
    },
    {
      "cell_type": "markdown",
      "source": [
        "# Intro\n",
        "\n",
        "This notebook pre-processes raw downloads from https://greenmountainpower.com/account/usage and produces one cleansed file, suitable for further analysis by the `Solar Viz` notebook.\n",
        "\n",
        "To run this script, you need access to Google Drive, and you need to copy the data from https://github.com/syphax/solar-data/tree/main/data to `/My Drive/Data/Solar` (or edit the path variable in the 2nd code block to point somewhere else).\n",
        "\n",
        "_TODO: Load the data directly from the GitHub repo._\n",
        "\n"
      ],
      "metadata": {
        "id": "hm-1FB99aNTt"
      }
    },
    {
      "cell_type": "markdown",
      "source": [
        "# Setup"
      ],
      "metadata": {
        "id": "52wes2ObaS6S"
      }
    },
    {
      "cell_type": "code",
      "execution_count": 1,
      "metadata": {
        "id": "BrPc62eAZ1-l"
      },
      "outputs": [],
      "source": [
        "import os\n",
        "import re\n",
        "\n",
        "from datetime import datetime\n",
        "\n",
        "import numpy as np\n",
        "import pandas as pd\n",
        "\n",
        "import altair as alt\n",
        "import seaborn as sns\n",
        "import matplotlib.pyplot as plt"
      ]
    },
    {
      "cell_type": "code",
      "source": [
        "# You can of course edit this to taste:\n",
        "\n",
        "path = '/content/drive/MyDrive/Data/Solar/'"
      ],
      "metadata": {
        "id": "J_6wRHUNgeOy"
      },
      "execution_count": 2,
      "outputs": []
    },
    {
      "cell_type": "code",
      "source": [
        "# This will require you to click through a couple windows to \n",
        "# give permission to access your GDrive.\n",
        "\n",
        "from google.colab import drive\n",
        "drive.mount('/content/drive')"
      ],
      "metadata": {
        "colab": {
          "base_uri": "https://localhost:8080/"
        },
        "id": "KT_RZuhfgi5-",
        "outputId": "0f1c42b4-8fb6-46b5-e2ae-cff87f0df401"
      },
      "execution_count": 3,
      "outputs": [
        {
          "output_type": "stream",
          "name": "stdout",
          "text": [
            "Drive already mounted at /content/drive; to attempt to forcibly remount, call drive.mount(\"/content/drive\", force_remount=True).\n"
          ]
        }
      ]
    },
    {
      "cell_type": "markdown",
      "source": [
        "# Load Data\n",
        "\n",
        "This script preps data that was downloaded from [Green Mountain Power's website](https://greenmountainpower.com/account/usage/).\n",
        "\n",
        "GMP has an excellent UI for reporting usage, and provides downloadable data in 15 minute increments (either CSV or Green Button XML). *Unfortunately* it only supports manual data downloads in 15 day (max) chunks. *Fortuntely* it only takes a couple minutes to download several months of data. It's just slightly too easy to bother automating for a single account.\n",
        "\n",
        "Fields in the CSV downloads are:\n",
        "* `ServiceAgreement`: Account info. Format is `Account Holder / Service / Service Acronym / Account Start Date / Account Status`\n",
        "* `IntervalStart`: Timestamp; format is `yyyy-MM-dd-hh:mm:ss`\n",
        "* `IntervalEnd`: Same, 15 minutes later. Redundant but explicit!\n",
        "* `Quantity`: Amount of electricity generated\n",
        "* `UnitOfMeasure` `kWh`. I love that they have an explicit UoM field!\n"
      ],
      "metadata": {
        "id": "dB-7UiEpavW3"
      }
    },
    {
      "cell_type": "code",
      "source": [
        "path = '/content/drive/MyDrive/Data/Solar/'\n",
        "\n",
        "raw_input_files = os.path.join(path, 'UsageData*.csv')\n",
        "joined_input_file = os.path.join(path, 'full_dataset.csv')\n"
      ],
      "metadata": {
        "id": "pG8ov6U5Z-Kh"
      },
      "execution_count": 4,
      "outputs": []
    },
    {
      "cell_type": "code",
      "source": [
        "# This should list the data files that you copied from https://github.com/syphax/solar-data/tree/main/data\n",
        "\n",
        "!ls $path "
      ],
      "metadata": {
        "id": "cjSnnjys58v7",
        "colab": {
          "base_uri": "https://localhost:8080/"
        },
        "outputId": "68008e64-93ce-4839-bd16-182c001d6b13"
      },
      "execution_count": 5,
      "outputs": [
        {
          "output_type": "stream",
          "name": "stdout",
          "text": [
            "full_dataset.csv\t\t UsageData_2022-01-16_15Days.csv\n",
            "MA\t\t\t\t UsageData_2022-01-31_1Days.csv\n",
            "old\t\t\t\t UsageData_2022-02-01_15Days.csv\n",
            "UsageData_2021-05-23_14Days.csv  UsageData_2022-02-15_14Days.csv\n",
            "UsageData_2021-06-06_14Days.csv  UsageData_2022-03-01_15Days.csv\n",
            "UsageData_2021-06-20_14Days.csv  UsageData_2022-03-16_14Days.csv\n",
            "UsageData_2021-07-04_14Days.csv  UsageData_2022-03-30_14Days.csv\n",
            "UsageData_2021-07-18_14Days.csv  UsageData_2022-04-13_14Days.csv\n",
            "UsageData_2021-08-01_14Days.csv  UsageData_2022-04-27_14Days.csv\n",
            "UsageData_2021-08-15_14Days.csv  UsageData_2022-05-11_14Days.csv\n",
            "UsageData_2021-08-29_14Days.csv  UsageData_2022-05-25_14Days.csv\n",
            "UsageData_2021-09-12_14Days.csv  UsageData_2022-06-08_14Days.csv\n",
            "UsageData_2021-09-26_14Days.csv  UsageData_2022-06-22_14Days.csv\n",
            "UsageData_2021-10-10_14Days.csv  UsageData_2022-07-06_14Days.csv\n",
            "UsageData_2021-10-24_14Days.csv  UsageData_2022-07-20_14Days.csv\n",
            "UsageData_2021-11-07_12Days.csv  UsageData_2022-08-03_14Days.csv\n",
            "UsageData_2021-11-18_15Days.csv  UsageData_2022-08-17_14Days.csv\n",
            "UsageData_2021-12-02_15Days.csv  UsageData_2022-08-31_14Days.csv\n",
            "UsageData_2021-12-17_15Days.csv  UsageData_2022-09-14_14Days.csv\n",
            "UsageData_2022-01-01_15Days.csv  UsageData_2022-09-28_14Days.csv\n"
          ]
        }
      ]
    },
    {
      "cell_type": "code",
      "source": [
        "# This concatenates available data files. We will need to remove possible dupes, and check for completeness.\n",
        "\n",
        "!cat $raw_input_files > $joined_input_file"
      ],
      "metadata": {
        "id": "miwNfoab58gT"
      },
      "execution_count": 6,
      "outputs": []
    },
    {
      "cell_type": "code",
      "source": [
        "df_energy_data_raw = pd.read_csv(joined_input_file)"
      ],
      "metadata": {
        "id": "x5SOcDl86Inz"
      },
      "execution_count": 7,
      "outputs": []
    },
    {
      "cell_type": "markdown",
      "source": [
        "# Check and Clean"
      ],
      "metadata": {
        "id": "XWGyMyeog_5q"
      }
    },
    {
      "cell_type": "code",
      "source": [
        "# What fields are there?\n",
        "\n",
        "df_energy_data_raw.dtypes"
      ],
      "metadata": {
        "id": "uDA_67Nu6IwZ",
        "colab": {
          "base_uri": "https://localhost:8080/"
        },
        "outputId": "26978b77-96d8-4974-f32a-b36f5c8fa8fd"
      },
      "execution_count": 8,
      "outputs": [
        {
          "output_type": "execute_result",
          "data": {
            "text/plain": [
              "ServiceAgreement    object\n",
              "IntervalStart       object\n",
              "IntervalEnd         object\n",
              "Quantity            object\n",
              "UnitOfMeasure       object\n",
              "dtype: object"
            ]
          },
          "metadata": {},
          "execution_count": 8
        }
      ]
    },
    {
      "cell_type": "code",
      "source": [
        "# Make a clean field for kWh values\n",
        "\n",
        "df_energy_data_raw['kWh'] = 0\n",
        "\n",
        "df_energy_data_raw['kWh'] = np.where(df_energy_data_raw['UnitOfMeasure'] == 'kWh', df_energy_data_raw['Quantity'], 0)\n",
        "df_energy_data_raw['kWh'] = df_energy_data_raw['kWh'].astype(np.float64)"
      ],
      "metadata": {
        "id": "HNq9gMc76IzK"
      },
      "execution_count": 9,
      "outputs": []
    },
    {
      "cell_type": "code",
      "source": [
        "# Quick check of values in df:\n",
        "\n",
        "df_energy_data_raw.groupby(['ServiceAgreement', 'UnitOfMeasure'], as_index=False).agg(cnt_records=('ServiceAgreement','count'), \n",
        "                                                                                      unique_dt=('IntervalStart','nunique'), \n",
        "                                                                                      kwh=('kWh','sum'))"
      ],
      "metadata": {
        "colab": {
          "base_uri": "https://localhost:8080/",
          "height": 206
        },
        "id": "iirlZiRyhGfw",
        "outputId": "8b7e9870-baf3-4c50-c224-276ca2afb2f3"
      },
      "execution_count": 10,
      "outputs": [
        {
          "output_type": "execute_result",
          "data": {
            "text/plain": [
              "                                    ServiceAgreement  UnitOfMeasure  \\\n",
              "0  POOLER, MADELEINE / Interconnected Generation ...            kWh   \n",
              "1  POOLER, MADELEINE / Residential Net Metering /...            kWh   \n",
              "2  POOLER, MADELEINE / Residential Net Metering /...            kWh   \n",
              "3  POOLER, MADELEINE / Residential Water Heater /...            kWh   \n",
              "4                                   ServiceAgreement  UnitOfMeasure   \n",
              "\n",
              "   cnt_records  unique_dt       kwh  \n",
              "0        48964      48664  10967.36  \n",
              "1        48964      48664   3136.19  \n",
              "2        48964      48664   9402.37  \n",
              "3        48964      48664   2683.81  \n",
              "4           36          1      0.00  "
            ],
            "text/html": [
              "\n",
              "  <div id=\"df-2b4c1eb8-b0dc-41aa-81ab-9fb256d91981\">\n",
              "    <div class=\"colab-df-container\">\n",
              "      <div>\n",
              "<style scoped>\n",
              "    .dataframe tbody tr th:only-of-type {\n",
              "        vertical-align: middle;\n",
              "    }\n",
              "\n",
              "    .dataframe tbody tr th {\n",
              "        vertical-align: top;\n",
              "    }\n",
              "\n",
              "    .dataframe thead th {\n",
              "        text-align: right;\n",
              "    }\n",
              "</style>\n",
              "<table border=\"1\" class=\"dataframe\">\n",
              "  <thead>\n",
              "    <tr style=\"text-align: right;\">\n",
              "      <th></th>\n",
              "      <th>ServiceAgreement</th>\n",
              "      <th>UnitOfMeasure</th>\n",
              "      <th>cnt_records</th>\n",
              "      <th>unique_dt</th>\n",
              "      <th>kwh</th>\n",
              "    </tr>\n",
              "  </thead>\n",
              "  <tbody>\n",
              "    <tr>\n",
              "      <th>0</th>\n",
              "      <td>POOLER, MADELEINE / Interconnected Generation ...</td>\n",
              "      <td>kWh</td>\n",
              "      <td>48964</td>\n",
              "      <td>48664</td>\n",
              "      <td>10967.36</td>\n",
              "    </tr>\n",
              "    <tr>\n",
              "      <th>1</th>\n",
              "      <td>POOLER, MADELEINE / Residential Net Metering /...</td>\n",
              "      <td>kWh</td>\n",
              "      <td>48964</td>\n",
              "      <td>48664</td>\n",
              "      <td>3136.19</td>\n",
              "    </tr>\n",
              "    <tr>\n",
              "      <th>2</th>\n",
              "      <td>POOLER, MADELEINE / Residential Net Metering /...</td>\n",
              "      <td>kWh</td>\n",
              "      <td>48964</td>\n",
              "      <td>48664</td>\n",
              "      <td>9402.37</td>\n",
              "    </tr>\n",
              "    <tr>\n",
              "      <th>3</th>\n",
              "      <td>POOLER, MADELEINE / Residential Water Heater /...</td>\n",
              "      <td>kWh</td>\n",
              "      <td>48964</td>\n",
              "      <td>48664</td>\n",
              "      <td>2683.81</td>\n",
              "    </tr>\n",
              "    <tr>\n",
              "      <th>4</th>\n",
              "      <td>ServiceAgreement</td>\n",
              "      <td>UnitOfMeasure</td>\n",
              "      <td>36</td>\n",
              "      <td>1</td>\n",
              "      <td>0.00</td>\n",
              "    </tr>\n",
              "  </tbody>\n",
              "</table>\n",
              "</div>\n",
              "      <button class=\"colab-df-convert\" onclick=\"convertToInteractive('df-2b4c1eb8-b0dc-41aa-81ab-9fb256d91981')\"\n",
              "              title=\"Convert this dataframe to an interactive table.\"\n",
              "              style=\"display:none;\">\n",
              "        \n",
              "  <svg xmlns=\"http://www.w3.org/2000/svg\" height=\"24px\"viewBox=\"0 0 24 24\"\n",
              "       width=\"24px\">\n",
              "    <path d=\"M0 0h24v24H0V0z\" fill=\"none\"/>\n",
              "    <path d=\"M18.56 5.44l.94 2.06.94-2.06 2.06-.94-2.06-.94-.94-2.06-.94 2.06-2.06.94zm-11 1L8.5 8.5l.94-2.06 2.06-.94-2.06-.94L8.5 2.5l-.94 2.06-2.06.94zm10 10l.94 2.06.94-2.06 2.06-.94-2.06-.94-.94-2.06-.94 2.06-2.06.94z\"/><path d=\"M17.41 7.96l-1.37-1.37c-.4-.4-.92-.59-1.43-.59-.52 0-1.04.2-1.43.59L10.3 9.45l-7.72 7.72c-.78.78-.78 2.05 0 2.83L4 21.41c.39.39.9.59 1.41.59.51 0 1.02-.2 1.41-.59l7.78-7.78 2.81-2.81c.8-.78.8-2.07 0-2.86zM5.41 20L4 18.59l7.72-7.72 1.47 1.35L5.41 20z\"/>\n",
              "  </svg>\n",
              "      </button>\n",
              "      \n",
              "  <style>\n",
              "    .colab-df-container {\n",
              "      display:flex;\n",
              "      flex-wrap:wrap;\n",
              "      gap: 12px;\n",
              "    }\n",
              "\n",
              "    .colab-df-convert {\n",
              "      background-color: #E8F0FE;\n",
              "      border: none;\n",
              "      border-radius: 50%;\n",
              "      cursor: pointer;\n",
              "      display: none;\n",
              "      fill: #1967D2;\n",
              "      height: 32px;\n",
              "      padding: 0 0 0 0;\n",
              "      width: 32px;\n",
              "    }\n",
              "\n",
              "    .colab-df-convert:hover {\n",
              "      background-color: #E2EBFA;\n",
              "      box-shadow: 0px 1px 2px rgba(60, 64, 67, 0.3), 0px 1px 3px 1px rgba(60, 64, 67, 0.15);\n",
              "      fill: #174EA6;\n",
              "    }\n",
              "\n",
              "    [theme=dark] .colab-df-convert {\n",
              "      background-color: #3B4455;\n",
              "      fill: #D2E3FC;\n",
              "    }\n",
              "\n",
              "    [theme=dark] .colab-df-convert:hover {\n",
              "      background-color: #434B5C;\n",
              "      box-shadow: 0px 1px 3px 1px rgba(0, 0, 0, 0.15);\n",
              "      filter: drop-shadow(0px 1px 2px rgba(0, 0, 0, 0.3));\n",
              "      fill: #FFFFFF;\n",
              "    }\n",
              "  </style>\n",
              "\n",
              "      <script>\n",
              "        const buttonEl =\n",
              "          document.querySelector('#df-2b4c1eb8-b0dc-41aa-81ab-9fb256d91981 button.colab-df-convert');\n",
              "        buttonEl.style.display =\n",
              "          google.colab.kernel.accessAllowed ? 'block' : 'none';\n",
              "\n",
              "        async function convertToInteractive(key) {\n",
              "          const element = document.querySelector('#df-2b4c1eb8-b0dc-41aa-81ab-9fb256d91981');\n",
              "          const dataTable =\n",
              "            await google.colab.kernel.invokeFunction('convertToInteractive',\n",
              "                                                     [key], {});\n",
              "          if (!dataTable) return;\n",
              "\n",
              "          const docLinkHtml = 'Like what you see? Visit the ' +\n",
              "            '<a target=\"_blank\" href=https://colab.research.google.com/notebooks/data_table.ipynb>data table notebook</a>'\n",
              "            + ' to learn more about interactive tables.';\n",
              "          element.innerHTML = '';\n",
              "          dataTable['output_type'] = 'display_data';\n",
              "          await google.colab.output.renderOutput(dataTable, element);\n",
              "          const docLink = document.createElement('div');\n",
              "          docLink.innerHTML = docLinkHtml;\n",
              "          element.appendChild(docLink);\n",
              "        }\n",
              "      </script>\n",
              "    </div>\n",
              "  </div>\n",
              "  "
            ]
          },
          "metadata": {},
          "execution_count": 10
        }
      ]
    },
    {
      "cell_type": "markdown",
      "source": [
        "## Extract service level code"
      ],
      "metadata": {
        "id": "aDBAOmOgpMA9"
      }
    },
    {
      "cell_type": "code",
      "source": [
        "# Extract service level code\n",
        "\n",
        "p = re.compile('.*/.*/(.*)/.*/.*')\n",
        "\n",
        "sl = df_energy_data_raw['ServiceAgreement'].str.extract(p)\n",
        "\n",
        "df_energy_data_raw['Service'] = sl[0].str.strip()\n"
      ],
      "metadata": {
        "id": "bwBb-cfYh6lX"
      },
      "execution_count": 11,
      "outputs": []
    },
    {
      "cell_type": "markdown",
      "source": [
        "## Correct timestamps\n",
        "\n",
        "The timestamps in these files appear to be in local time. I discovered this when checking for dupes, and finding extra duplicates around e.g. Nov-07-2021 at 1-2am.\n",
        "\n",
        "To ensure that the timestamps are aligned consistently, we need to adjust for DST. Otherwise, we'll see a funky offset when analyzing production by hour of day."
      ],
      "metadata": {
        "id": "p0ORz9Q6pOh6"
      }
    },
    {
      "cell_type": "code",
      "source": [],
      "metadata": {
        "id": "WSBGaoogpv2-"
      },
      "execution_count": null,
      "outputs": []
    },
    {
      "cell_type": "code",
      "source": [],
      "metadata": {
        "id": "bNdYAvW4pv5j"
      },
      "execution_count": null,
      "outputs": []
    },
    {
      "cell_type": "code",
      "source": [
        "# Check for dupes\n",
        "\n",
        "df_dupe_check = df_energy_data_raw.groupby(['Service', 'IntervalStart'], as_index=False).agg(cnt_dupes=('IntervalStart','count'))\n",
        "\n",
        "df_dupe_check = df_dupe_check[df_dupe_check['cnt_dupes'] != 1]\n",
        "\n",
        "df_dupe_records = df_energy_data_raw.merge(df_dupe_check, on=['Service', 'IntervalStart'], how='inner').sort_values(['IntervalStart', 'Service'])"
      ],
      "metadata": {
        "id": "u2caRy4xlYIr"
      },
      "execution_count": 19,
      "outputs": []
    },
    {
      "cell_type": "code",
      "source": [
        "display(df_dupe_records)"
      ],
      "metadata": {
        "colab": {
          "base_uri": "https://localhost:8080/",
          "height": 424
        },
        "id": "N5Vlwnddl5p-",
        "outputId": "45464edb-cdb6-4027-9d0a-fe139cb058d3"
      },
      "execution_count": 23,
      "outputs": [
        {
          "output_type": "display_data",
          "data": {
            "text/plain": [
              "                                       ServiceAgreement        IntervalStart  \\\n",
              "60    POOLER, MADELEINE / Interconnected Generation ...  2021-11-07-00:00:00   \n",
              "61    POOLER, MADELEINE / Interconnected Generation ...  2021-11-07-00:00:00   \n",
              "20    POOLER, MADELEINE / Residential Net Metering /...  2021-11-07-00:00:00   \n",
              "21    POOLER, MADELEINE / Residential Net Metering /...  2021-11-07-00:00:00   \n",
              "0     POOLER, MADELEINE / Residential Net Metering /...  2021-11-07-00:00:00   \n",
              "...                                                 ...                  ...   \n",
              "1999  POOLER, MADELEINE / Residential Net Metering /...  2022-02-15-23:45:00   \n",
              "1806  POOLER, MADELEINE / Residential Net Metering /...  2022-02-15-23:45:00   \n",
              "1807  POOLER, MADELEINE / Residential Net Metering /...  2022-02-15-23:45:00   \n",
              "2190  POOLER, MADELEINE / Residential Water Heater /...  2022-02-15-23:45:00   \n",
              "2191  POOLER, MADELEINE / Residential Water Heater /...  2022-02-15-23:45:00   \n",
              "\n",
              "              IntervalEnd Quantity UnitOfMeasure   kWh Service  cnt_dupes  \n",
              "60    2021-11-07-00:15:00      0.0           kWh  0.00    INTC          2  \n",
              "61    2021-11-07-00:15:00      0.0           kWh  0.00    INTC          2  \n",
              "20    2021-11-07-00:15:00     0.06           kWh  0.06     N01          2  \n",
              "21    2021-11-07-00:15:00     0.06           kWh  0.06     N01          2  \n",
              "0     2021-11-07-00:15:00      0.0           kWh  0.00    NGEN          2  \n",
              "...                   ...      ...           ...   ...     ...        ...  \n",
              "1999  2022-02-16-00:00:00     0.04           kWh  0.04     N01          2  \n",
              "1806  2022-02-16-00:00:00      0.0           kWh  0.00    NGEN          2  \n",
              "1807  2022-02-16-00:00:00      0.0           kWh  0.00    NGEN          2  \n",
              "2190  2022-02-16-00:00:00      0.0           kWh  0.00    RE03          2  \n",
              "2191  2022-02-16-00:00:00      0.0           kWh  0.00    RE03          2  \n",
              "\n",
              "[2384 rows x 8 columns]"
            ],
            "text/html": [
              "\n",
              "  <div id=\"df-76f9cdcd-acca-4bb7-a604-6d3c0ed16825\">\n",
              "    <div class=\"colab-df-container\">\n",
              "      <div>\n",
              "<style scoped>\n",
              "    .dataframe tbody tr th:only-of-type {\n",
              "        vertical-align: middle;\n",
              "    }\n",
              "\n",
              "    .dataframe tbody tr th {\n",
              "        vertical-align: top;\n",
              "    }\n",
              "\n",
              "    .dataframe thead th {\n",
              "        text-align: right;\n",
              "    }\n",
              "</style>\n",
              "<table border=\"1\" class=\"dataframe\">\n",
              "  <thead>\n",
              "    <tr style=\"text-align: right;\">\n",
              "      <th></th>\n",
              "      <th>ServiceAgreement</th>\n",
              "      <th>IntervalStart</th>\n",
              "      <th>IntervalEnd</th>\n",
              "      <th>Quantity</th>\n",
              "      <th>UnitOfMeasure</th>\n",
              "      <th>kWh</th>\n",
              "      <th>Service</th>\n",
              "      <th>cnt_dupes</th>\n",
              "    </tr>\n",
              "  </thead>\n",
              "  <tbody>\n",
              "    <tr>\n",
              "      <th>60</th>\n",
              "      <td>POOLER, MADELEINE / Interconnected Generation ...</td>\n",
              "      <td>2021-11-07-00:00:00</td>\n",
              "      <td>2021-11-07-00:15:00</td>\n",
              "      <td>0.0</td>\n",
              "      <td>kWh</td>\n",
              "      <td>0.00</td>\n",
              "      <td>INTC</td>\n",
              "      <td>2</td>\n",
              "    </tr>\n",
              "    <tr>\n",
              "      <th>61</th>\n",
              "      <td>POOLER, MADELEINE / Interconnected Generation ...</td>\n",
              "      <td>2021-11-07-00:00:00</td>\n",
              "      <td>2021-11-07-00:15:00</td>\n",
              "      <td>0.0</td>\n",
              "      <td>kWh</td>\n",
              "      <td>0.00</td>\n",
              "      <td>INTC</td>\n",
              "      <td>2</td>\n",
              "    </tr>\n",
              "    <tr>\n",
              "      <th>20</th>\n",
              "      <td>POOLER, MADELEINE / Residential Net Metering /...</td>\n",
              "      <td>2021-11-07-00:00:00</td>\n",
              "      <td>2021-11-07-00:15:00</td>\n",
              "      <td>0.06</td>\n",
              "      <td>kWh</td>\n",
              "      <td>0.06</td>\n",
              "      <td>N01</td>\n",
              "      <td>2</td>\n",
              "    </tr>\n",
              "    <tr>\n",
              "      <th>21</th>\n",
              "      <td>POOLER, MADELEINE / Residential Net Metering /...</td>\n",
              "      <td>2021-11-07-00:00:00</td>\n",
              "      <td>2021-11-07-00:15:00</td>\n",
              "      <td>0.06</td>\n",
              "      <td>kWh</td>\n",
              "      <td>0.06</td>\n",
              "      <td>N01</td>\n",
              "      <td>2</td>\n",
              "    </tr>\n",
              "    <tr>\n",
              "      <th>0</th>\n",
              "      <td>POOLER, MADELEINE / Residential Net Metering /...</td>\n",
              "      <td>2021-11-07-00:00:00</td>\n",
              "      <td>2021-11-07-00:15:00</td>\n",
              "      <td>0.0</td>\n",
              "      <td>kWh</td>\n",
              "      <td>0.00</td>\n",
              "      <td>NGEN</td>\n",
              "      <td>2</td>\n",
              "    </tr>\n",
              "    <tr>\n",
              "      <th>...</th>\n",
              "      <td>...</td>\n",
              "      <td>...</td>\n",
              "      <td>...</td>\n",
              "      <td>...</td>\n",
              "      <td>...</td>\n",
              "      <td>...</td>\n",
              "      <td>...</td>\n",
              "      <td>...</td>\n",
              "    </tr>\n",
              "    <tr>\n",
              "      <th>1999</th>\n",
              "      <td>POOLER, MADELEINE / Residential Net Metering /...</td>\n",
              "      <td>2022-02-15-23:45:00</td>\n",
              "      <td>2022-02-16-00:00:00</td>\n",
              "      <td>0.04</td>\n",
              "      <td>kWh</td>\n",
              "      <td>0.04</td>\n",
              "      <td>N01</td>\n",
              "      <td>2</td>\n",
              "    </tr>\n",
              "    <tr>\n",
              "      <th>1806</th>\n",
              "      <td>POOLER, MADELEINE / Residential Net Metering /...</td>\n",
              "      <td>2022-02-15-23:45:00</td>\n",
              "      <td>2022-02-16-00:00:00</td>\n",
              "      <td>0.0</td>\n",
              "      <td>kWh</td>\n",
              "      <td>0.00</td>\n",
              "      <td>NGEN</td>\n",
              "      <td>2</td>\n",
              "    </tr>\n",
              "    <tr>\n",
              "      <th>1807</th>\n",
              "      <td>POOLER, MADELEINE / Residential Net Metering /...</td>\n",
              "      <td>2022-02-15-23:45:00</td>\n",
              "      <td>2022-02-16-00:00:00</td>\n",
              "      <td>0.0</td>\n",
              "      <td>kWh</td>\n",
              "      <td>0.00</td>\n",
              "      <td>NGEN</td>\n",
              "      <td>2</td>\n",
              "    </tr>\n",
              "    <tr>\n",
              "      <th>2190</th>\n",
              "      <td>POOLER, MADELEINE / Residential Water Heater /...</td>\n",
              "      <td>2022-02-15-23:45:00</td>\n",
              "      <td>2022-02-16-00:00:00</td>\n",
              "      <td>0.0</td>\n",
              "      <td>kWh</td>\n",
              "      <td>0.00</td>\n",
              "      <td>RE03</td>\n",
              "      <td>2</td>\n",
              "    </tr>\n",
              "    <tr>\n",
              "      <th>2191</th>\n",
              "      <td>POOLER, MADELEINE / Residential Water Heater /...</td>\n",
              "      <td>2022-02-15-23:45:00</td>\n",
              "      <td>2022-02-16-00:00:00</td>\n",
              "      <td>0.0</td>\n",
              "      <td>kWh</td>\n",
              "      <td>0.00</td>\n",
              "      <td>RE03</td>\n",
              "      <td>2</td>\n",
              "    </tr>\n",
              "  </tbody>\n",
              "</table>\n",
              "<p>2384 rows × 8 columns</p>\n",
              "</div>\n",
              "      <button class=\"colab-df-convert\" onclick=\"convertToInteractive('df-76f9cdcd-acca-4bb7-a604-6d3c0ed16825')\"\n",
              "              title=\"Convert this dataframe to an interactive table.\"\n",
              "              style=\"display:none;\">\n",
              "        \n",
              "  <svg xmlns=\"http://www.w3.org/2000/svg\" height=\"24px\"viewBox=\"0 0 24 24\"\n",
              "       width=\"24px\">\n",
              "    <path d=\"M0 0h24v24H0V0z\" fill=\"none\"/>\n",
              "    <path d=\"M18.56 5.44l.94 2.06.94-2.06 2.06-.94-2.06-.94-.94-2.06-.94 2.06-2.06.94zm-11 1L8.5 8.5l.94-2.06 2.06-.94-2.06-.94L8.5 2.5l-.94 2.06-2.06.94zm10 10l.94 2.06.94-2.06 2.06-.94-2.06-.94-.94-2.06-.94 2.06-2.06.94z\"/><path d=\"M17.41 7.96l-1.37-1.37c-.4-.4-.92-.59-1.43-.59-.52 0-1.04.2-1.43.59L10.3 9.45l-7.72 7.72c-.78.78-.78 2.05 0 2.83L4 21.41c.39.39.9.59 1.41.59.51 0 1.02-.2 1.41-.59l7.78-7.78 2.81-2.81c.8-.78.8-2.07 0-2.86zM5.41 20L4 18.59l7.72-7.72 1.47 1.35L5.41 20z\"/>\n",
              "  </svg>\n",
              "      </button>\n",
              "      \n",
              "  <style>\n",
              "    .colab-df-container {\n",
              "      display:flex;\n",
              "      flex-wrap:wrap;\n",
              "      gap: 12px;\n",
              "    }\n",
              "\n",
              "    .colab-df-convert {\n",
              "      background-color: #E8F0FE;\n",
              "      border: none;\n",
              "      border-radius: 50%;\n",
              "      cursor: pointer;\n",
              "      display: none;\n",
              "      fill: #1967D2;\n",
              "      height: 32px;\n",
              "      padding: 0 0 0 0;\n",
              "      width: 32px;\n",
              "    }\n",
              "\n",
              "    .colab-df-convert:hover {\n",
              "      background-color: #E2EBFA;\n",
              "      box-shadow: 0px 1px 2px rgba(60, 64, 67, 0.3), 0px 1px 3px 1px rgba(60, 64, 67, 0.15);\n",
              "      fill: #174EA6;\n",
              "    }\n",
              "\n",
              "    [theme=dark] .colab-df-convert {\n",
              "      background-color: #3B4455;\n",
              "      fill: #D2E3FC;\n",
              "    }\n",
              "\n",
              "    [theme=dark] .colab-df-convert:hover {\n",
              "      background-color: #434B5C;\n",
              "      box-shadow: 0px 1px 3px 1px rgba(0, 0, 0, 0.15);\n",
              "      filter: drop-shadow(0px 1px 2px rgba(0, 0, 0, 0.3));\n",
              "      fill: #FFFFFF;\n",
              "    }\n",
              "  </style>\n",
              "\n",
              "      <script>\n",
              "        const buttonEl =\n",
              "          document.querySelector('#df-76f9cdcd-acca-4bb7-a604-6d3c0ed16825 button.colab-df-convert');\n",
              "        buttonEl.style.display =\n",
              "          google.colab.kernel.accessAllowed ? 'block' : 'none';\n",
              "\n",
              "        async function convertToInteractive(key) {\n",
              "          const element = document.querySelector('#df-76f9cdcd-acca-4bb7-a604-6d3c0ed16825');\n",
              "          const dataTable =\n",
              "            await google.colab.kernel.invokeFunction('convertToInteractive',\n",
              "                                                     [key], {});\n",
              "          if (!dataTable) return;\n",
              "\n",
              "          const docLinkHtml = 'Like what you see? Visit the ' +\n",
              "            '<a target=\"_blank\" href=https://colab.research.google.com/notebooks/data_table.ipynb>data table notebook</a>'\n",
              "            + ' to learn more about interactive tables.';\n",
              "          element.innerHTML = '';\n",
              "          dataTable['output_type'] = 'display_data';\n",
              "          await google.colab.output.renderOutput(dataTable, element);\n",
              "          const docLink = document.createElement('div');\n",
              "          docLink.innerHTML = docLinkHtml;\n",
              "          element.appendChild(docLink);\n",
              "        }\n",
              "      </script>\n",
              "    </div>\n",
              "  </div>\n",
              "  "
            ]
          },
          "metadata": {}
        }
      ]
    },
    {
      "cell_type": "code",
      "source": [],
      "metadata": {
        "id": "wRk1uoYSnctA"
      },
      "execution_count": null,
      "outputs": []
    },
    {
      "cell_type": "markdown",
      "source": [
        "So there are 2 reasons for dupes- either the downloaded data files overlap, or we have duplicate timestamps during the \"fall back\" Daylight Savings Time. \n",
        "\n",
        "In order to get aligned solar output data, we need to "
      ],
      "metadata": {
        "id": "rjn8cq2Pndxt"
      }
    },
    {
      "cell_type": "code",
      "source": [
        "sh0 = df_energy_data_raw.shape\n",
        "\n",
        "# df_solar_data = df_energy_data_raw[df_energy_data_raw['ServiceAgreement']=='POOLER, MADELEINE / Residential Net Metering / NGEN / 06-04-2021 12:00:00AM / Active']\n",
        "\n",
        "# # Remove any errant header rows (one may stick around in the data b/c it's not a dupe of the header row)\n",
        "# df_solar_data = df_solar_data[df_solar_data['ServiceAgreement'] != 'ServiceAgreement']\n",
        "\n",
        "# # Now we don't need that column anymore!\n",
        "# df_solar_data = df_solar_data.drop('ServiceAgreement', axis=1)\n",
        "\n",
        "sh0 = df_solar_data.shape\n",
        "\n",
        "df_solar_data = df_solar_data.drop_duplicates()\n",
        "\n",
        "sh1 = df_solar_data.shape\n",
        "\n",
        "cnt_dupes = sh0[0] - sh1[0]\n",
        "\n",
        "print(\"Removed {:,} duplicate entries; {:,} left.\".format(cnt_dupes, sh1[0]))"
      ],
      "metadata": {
        "colab": {
          "base_uri": "https://localhost:8080/",
          "height": 240
        },
        "id": "xb5hmY9uhNIT",
        "outputId": "cca97cd8-20ec-4284-dad1-bb98f1224ef3"
      },
      "execution_count": 13,
      "outputs": [
        {
          "output_type": "error",
          "ename": "NameError",
          "evalue": "ignored",
          "traceback": [
            "\u001b[0;31m---------------------------------------------------------------------------\u001b[0m",
            "\u001b[0;31mNameError\u001b[0m                                 Traceback (most recent call last)",
            "\u001b[0;32m<ipython-input-13-ac153eb63469>\u001b[0m in \u001b[0;36m<module>\u001b[0;34m\u001b[0m\n\u001b[1;32m      9\u001b[0m \u001b[0;31m# df_solar_data = df_solar_data.drop('ServiceAgreement', axis=1)\u001b[0m\u001b[0;34m\u001b[0m\u001b[0;34m\u001b[0m\u001b[0;34m\u001b[0m\u001b[0m\n\u001b[1;32m     10\u001b[0m \u001b[0;34m\u001b[0m\u001b[0m\n\u001b[0;32m---> 11\u001b[0;31m \u001b[0msh0\u001b[0m \u001b[0;34m=\u001b[0m \u001b[0mdf_solar_data\u001b[0m\u001b[0;34m.\u001b[0m\u001b[0mshape\u001b[0m\u001b[0;34m\u001b[0m\u001b[0;34m\u001b[0m\u001b[0m\n\u001b[0m\u001b[1;32m     12\u001b[0m \u001b[0;34m\u001b[0m\u001b[0m\n\u001b[1;32m     13\u001b[0m \u001b[0mdf_solar_data\u001b[0m \u001b[0;34m=\u001b[0m \u001b[0mdf_solar_data\u001b[0m\u001b[0;34m.\u001b[0m\u001b[0mdrop_duplicates\u001b[0m\u001b[0;34m(\u001b[0m\u001b[0;34m)\u001b[0m\u001b[0;34m\u001b[0m\u001b[0;34m\u001b[0m\u001b[0m\n",
            "\u001b[0;31mNameError\u001b[0m: name 'df_solar_data' is not defined"
          ]
        }
      ]
    },
    {
      "cell_type": "code",
      "source": [
        "# Drop ServiceAgreement (which contains some PID):\n",
        "\n",
        "df_energy_data_raw = df_energy_data_raw.drop('ServiceAgreement', axis=1)"
      ],
      "metadata": {
        "id": "hqRglENrh9p4"
      },
      "execution_count": null,
      "outputs": []
    },
    {
      "cell_type": "code",
      "source": [],
      "metadata": {
        "id": "B5q4t6Lhh0Gh"
      },
      "execution_count": null,
      "outputs": []
    }
  ]
}