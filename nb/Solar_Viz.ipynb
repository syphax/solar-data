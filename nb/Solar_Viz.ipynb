{
  "nbformat": 4,
  "nbformat_minor": 0,
  "metadata": {
    "colab": {
      "name": "Solar Viz.ipynb",
      "provenance": [],
      "toc_visible": true,
      "authorship_tag": "ABX9TyNlfwYW3portpdXVadTf1Yt",
      "include_colab_link": true
    },
    "kernelspec": {
      "name": "python3",
      "display_name": "Python 3"
    },
    "language_info": {
      "name": "python"
    }
  },
  "cells": [
    {
      "cell_type": "markdown",
      "metadata": {
        "id": "view-in-github",
        "colab_type": "text"
      },
      "source": [
        "<a href=\"https://colab.research.google.com/github/syphax/solar-data/blob/main/nb/Solar_Viz.ipynb\" target=\"_parent\"><img src=\"https://colab.research.google.com/assets/colab-badge.svg\" alt=\"Open In Colab\"/></a>"
      ]
    },
    {
      "cell_type": "markdown",
      "source": [
        "# Intro\n",
        "\n",
        "This notebook analyses and visualizes output from my VT PV system.\n",
        "\n",
        "To run with the provided data, you need Google Drive, and you need to copy the data from https://github.com/syphax/solar-data/tree/main/data to `/My Drive/Data/Solar`\n",
        "\n",
        "_TODO: Load the data directly from the GitHub repo._"
      ],
      "metadata": {
        "id": "EmYiMoVM8HXM"
      }
    },
    {
      "cell_type": "markdown",
      "source": [
        "# Setup"
      ],
      "metadata": {
        "id": "DU_CEsST8PMX"
      }
    },
    {
      "cell_type": "code",
      "source": [
        "import os\n",
        "\n",
        "from datetime import datetime\n",
        "\n",
        "import numpy as np\n",
        "import pandas as pd\n",
        "import altair as alt\n"
      ],
      "metadata": {
        "id": "uKzDrxxP9U10"
      },
      "execution_count": 22,
      "outputs": []
    },
    {
      "cell_type": "code",
      "source": [
        "from google.colab import drive\n",
        "drive.mount('/content/drive')"
      ],
      "metadata": {
        "colab": {
          "base_uri": "https://localhost:8080/"
        },
        "id": "86U1U98K8Qlv",
        "outputId": "85bd5a2e-fe31-4c40-8273-bfb28683dd21"
      },
      "execution_count": 2,
      "outputs": [
        {
          "output_type": "stream",
          "name": "stdout",
          "text": [
            "Drive already mounted at /content/drive; to attempt to forcibly remount, call drive.mount(\"/content/drive\", force_remount=True).\n"
          ]
        }
      ]
    },
    {
      "cell_type": "markdown",
      "source": [
        "# Load Data\n",
        "\n",
        "This loads data that was downloaded from [Green Mountain Power's website](https://greenmountainpower.com/account/usage/).\n",
        "\n",
        "GMP has an excellent UI for reporting usage, and provides downloaded data in 15 minute increments (either CSV or Green Button XML). But unfortunately it only supports manual data downloads in 15 day (max) chunks. \n",
        "\n",
        "Fields in the CSV downloads are:\n",
        "* `ServiceAgreement`: Account info\n",
        "* `IntervalStart`: Timestamp; format is `yyyy-MM-dd-hh:mm:ss`\n",
        "* `IntervalEnd`: Same, 15 minutes later. Redundant but explicit!\n",
        "* `Quantity`: Amount of electricity generated\n",
        "* `UnitOfMeasure` `kWh`. I love that they have an explicit UoM field!\n"
      ],
      "metadata": {
        "id": "XBfqPv6mZ5fW"
      }
    },
    {
      "cell_type": "markdown",
      "source": [
        "## Prep"
      ],
      "metadata": {
        "id": "FZbdwZkqpZHx"
      }
    },
    {
      "cell_type": "code",
      "source": [
        "path = '/content/drive/MyDrive/Data/Solar/'"
      ],
      "metadata": {
        "id": "GqBHG7LEabfW"
      },
      "execution_count": 3,
      "outputs": []
    },
    {
      "cell_type": "code",
      "source": [
        "# This should list the data files that you copied from https://github.com/syphax/solar-data/tree/main/data\n",
        "!ls $path "
      ],
      "metadata": {
        "colab": {
          "base_uri": "https://localhost:8080/"
        },
        "id": "0vxr6APx8RdH",
        "outputId": "412e3a62-0e66-4c2f-fcfd-f0f94a1a9130"
      },
      "execution_count": 4,
      "outputs": [
        {
          "output_type": "stream",
          "name": "stdout",
          "text": [
            "full_dataset.csv\t\t UsageData_2021-11-07_12Days.csv\n",
            "UsageData_2021-05-23_14Days.csv  UsageData_2021-11-18_15Days.csv\n",
            "UsageData_2021-06-06_14Days.csv  UsageData_2021-12-02_15Days.csv\n",
            "UsageData_2021-06-20_14Days.csv  UsageData_2021-12-17_15Days.csv\n",
            "UsageData_2021-07-04_14Days.csv  UsageData_2022-01-01_15Days.csv\n",
            "UsageData_2021-07-18_14Days.csv  UsageData_2022-01-16_15Days.csv\n",
            "UsageData_2021-08-01_14Days.csv  UsageData_2022-01-31_1Days.csv\n",
            "UsageData_2021-08-15_14Days.csv  UsageData_2022-02-01_15Days.csv\n",
            "UsageData_2021-08-29_14Days.csv  UsageData_2022-02-15_14Days.csv\n",
            "UsageData_2021-09-12_14Days.csv  UsageData_2022-03-01_15Days.csv\n",
            "UsageData_2021-09-26_14Days.csv  UsageData_2022-03-13_7Days.csv\n",
            "UsageData_2021-10-10_14Days.csv  UsageData_2022-03-20_2Days.csv\n",
            "UsageData_2021-10-24_14Days.csv\n"
          ]
        }
      ]
    },
    {
      "cell_type": "code",
      "source": [
        "raw_input_files = os.path.join(path, 'UsageData*.csv')\n",
        "joined_input_file = os.path.join(path, 'full_dataset.csv')\n",
        "\n",
        "# TODO: Add "
      ],
      "metadata": {
        "id": "Z_y1Ft8rakt9"
      },
      "execution_count": 5,
      "outputs": []
    },
    {
      "cell_type": "code",
      "source": [
        "# This concatenates available data files. We will need to remove possible dupes, and check for completeness.\n",
        "\n",
        "!cat $raw_input_files > $joined_input_file"
      ],
      "metadata": {
        "id": "wc67JZRv8cZC"
      },
      "execution_count": 6,
      "outputs": []
    },
    {
      "cell_type": "markdown",
      "source": [
        "## Load"
      ],
      "metadata": {
        "id": "E7fyTm-opgj8"
      }
    },
    {
      "cell_type": "code",
      "source": [
        "df_energy_data_raw = pd.read_csv(joined_input_file)"
      ],
      "metadata": {
        "id": "y3ofTm8IaNB0"
      },
      "execution_count": 7,
      "outputs": []
    },
    {
      "cell_type": "code",
      "source": [
        "# What are the unique values for ServiceAgreement?\n",
        "\n",
        "df_energy_data_raw['ServiceAgreement'].unique()"
      ],
      "metadata": {
        "id": "W8wNVy1apayg",
        "outputId": "eb60537b-3763-4951-ec45-9e10b8862e88",
        "colab": {
          "base_uri": "https://localhost:8080/"
        }
      },
      "execution_count": 8,
      "outputs": [
        {
          "output_type": "execute_result",
          "data": {
            "text/plain": [
              "array(['POOLER, MADELEINE / Residential Net Metering / NGEN / 06-04-2021 12:00:00AM / Active',\n",
              "       'POOLER, MADELEINE / Residential Net Metering / N01 / 06-04-2021 12:00:00AM / Active',\n",
              "       'POOLER, MADELEINE / Residential Water Heater / RE03 / 06-04-2021 12:00:00AM / Active',\n",
              "       'POOLER, MADELEINE / Interconnected Generation Residential / INTC / 06-04-2021 12:00:00AM / Active',\n",
              "       'ServiceAgreement'], dtype=object)"
            ]
          },
          "metadata": {},
          "execution_count": 8
        }
      ]
    },
    {
      "cell_type": "markdown",
      "source": [
        "## Clean"
      ],
      "metadata": {
        "id": "UG1WjUpyql8p"
      }
    },
    {
      "cell_type": "code",
      "source": [
        "sh0 = df_energy_data_raw.shape\n",
        "\n",
        "df_solar_data = df_energy_data_raw[df_energy_data_raw['ServiceAgreement']=='POOLER, MADELEINE / Residential Net Metering / NGEN / 06-04-2021 12:00:00AM / Active']\n",
        "\n",
        "# Remove any errant header rows (one may stick around in the data b/c it's not a dupe of the header row)\n",
        "df_solar_data = df_solar_data[df_solar_data['ServiceAgreement'] != 'ServiceAgreement']\n",
        "\n",
        "sh0 = df_solar_data.shape\n",
        "\n",
        "df_solar_data = df_solar_data.drop_duplicates()\n",
        "\n",
        "sh1 = df_solar_data.shape\n",
        "\n",
        "cnt_dupes = sh0[0] - sh1[0]\n",
        "\n",
        "print(\"Removed {:,} duplicate entries; {:,} left.\".format(cnt_dupes, sh1[0]))"
      ],
      "metadata": {
        "id": "nKa0nbxOqRag",
        "outputId": "7c768a49-838f-4d45-8010-8f62022c1e78",
        "colab": {
          "base_uri": "https://localhost:8080/"
        }
      },
      "execution_count": 9,
      "outputs": [
        {
          "output_type": "stream",
          "name": "stdout",
          "text": [
            "Removed 583 duplicate entries; 29,081 left.\n"
          ]
        }
      ]
    },
    {
      "cell_type": "code",
      "source": [
        "# Set Quantity as a float\n",
        "\n",
        "df_solar_data['Quantity'] = df_solar_data['Quantity'].astype(np.float64)"
      ],
      "metadata": {
        "id": "oqMAslns27rq"
      },
      "execution_count": 33,
      "outputs": []
    },
    {
      "cell_type": "code",
      "source": [
        "fmt = '%Y-%m-%d-%H:%M:%S'\n",
        "\n",
        "df_solar_data['dt_start'] = pd.to_datetime(df_solar_data['IntervalStart'], format=fmt)\n",
        "df_solar_data['dt_end'] = pd.to_datetime(df_solar_data['IntervalEnd'], format=fmt)"
      ],
      "metadata": {
        "id": "J-uPanqRr4l0"
      },
      "execution_count": 34,
      "outputs": []
    },
    {
      "cell_type": "code",
      "source": [
        "for c in ['dt_start', 'dt_end']:  \n",
        "\n",
        "  # Compute diffs vs prior record\n",
        "  df_solar_data['diff_' + c] = df_solar_data[c].diff()\n",
        "\n",
        "  # Add year, month, day, hour, minutes:\n",
        "\n",
        "  df_solar_data[c + '_year'] = df_solar_data[c].dt.year\n",
        "  df_solar_data[c + '_month'] = df_solar_data[c].dt.month\n",
        "  df_solar_data[c + '_day'] = df_solar_data[c].dt.day\n",
        "  \n",
        "  # Altair doesn't like date types very much, so this is basically a rounded datetime\n",
        "  df_solar_data[c + '_dt'] = pd.to_datetime(df_solar_data[c].dt.date)\n",
        "  \n",
        "  df_solar_data[c + '_hour'] = df_solar_data[c].dt.hour\n",
        "  df_solar_data[c + '_minute'] = df_solar_data[c].dt.minute\n",
        "\n",
        "  df_solar_data[c + '_hrmin'] = df_solar_data[c + '_hour'] + df_solar_data[c + '_minute'] / 60.0\n"
      ],
      "metadata": {
        "id": "Mi2epU25rUVF"
      },
      "execution_count": 42,
      "outputs": []
    },
    {
      "cell_type": "code",
      "source": [
        "# 15 minute increment:\n",
        "\n",
        "d1 = datetime.strptime('2022-01-01-00:00:00', fmt)\n",
        "d2 = datetime.strptime('2022-01-01-00:15:00', fmt)\n",
        "\n",
        "diff_mins = (d2-d1)"
      ],
      "metadata": {
        "id": "idi3FKoDwrJb"
      },
      "execution_count": 43,
      "outputs": []
    },
    {
      "cell_type": "code",
      "source": [
        "# This should show the start of the series, plus some daylight savings impaired records!\n",
        "\n",
        "df_solar_data[df_solar_data['diff_dt_start'] != diff_mins]"
      ],
      "metadata": {
        "id": "KPht1AlewSKh",
        "outputId": "4d4a9b21-9471-4bd9-f47d-634a06686cf6",
        "colab": {
          "base_uri": "https://localhost:8080/",
          "height": 476
        }
      },
      "execution_count": 44,
      "outputs": [
        {
          "output_type": "execute_result",
          "data": {
            "text/plain": [
              "                                         ServiceAgreement  \\\n",
              "0       POOLER, MADELEINE / Residential Net Metering /...   \n",
              "59147   POOLER, MADELEINE / Residential Net Metering /...   \n",
              "64551   POOLER, MADELEINE / Residential Net Metering /...   \n",
              "110653  POOLER, MADELEINE / Residential Net Metering /...   \n",
              "\n",
              "              IntervalStart          IntervalEnd  Quantity UnitOfMeasure  \\\n",
              "0       2021-05-23-00:00:00  2021-05-23-00:15:00       0.0           kWh   \n",
              "59147   2021-10-24-01:00:00  2021-10-24-01:15:00       0.0           kWh   \n",
              "64551   2021-11-07-01:45:00  2021-11-07-02:00:00       0.0           kWh   \n",
              "110653  2022-03-13-03:00:00  2022-03-13-03:15:00       0.0           kWh   \n",
              "\n",
              "                  dt_start              dt_end   diff_dt_start  \\\n",
              "0      2021-05-23 00:00:00 2021-05-23 00:15:00             NaT   \n",
              "59147  2021-10-24 01:00:00 2021-10-24 01:15:00 0 days 01:15:00   \n",
              "64551  2021-11-07 01:45:00 2021-11-07 02:00:00 0 days 00:00:00   \n",
              "110653 2022-03-13 03:00:00 2022-03-13 03:15:00 0 days 01:15:00   \n",
              "\n",
              "           diff_dt_end  dt_start_year  ...  dt_end_year  dt_end_month  \\\n",
              "0                  NaT           2021  ...         2021             5   \n",
              "59147  0 days 01:15:00           2021  ...         2021            10   \n",
              "64551  0 days 01:00:00           2021  ...         2021            11   \n",
              "110653 0 days 00:15:00           2022  ...         2022             3   \n",
              "\n",
              "        dt_end_day  dt_end_hour  dt_start_minute  dt_start_hrmin  \\\n",
              "0               23            0                0            0.00   \n",
              "59147           24            1                0            1.00   \n",
              "64551            7            2               45            1.75   \n",
              "110653          13            3                0            3.00   \n",
              "\n",
              "        dt_end_minute  dt_end_hrmin  dt_start_dt  dt_end_dt  \n",
              "0                  15          0.25   2021-05-23 2021-05-23  \n",
              "59147              15          1.25   2021-10-24 2021-10-24  \n",
              "64551               0          2.00   2021-11-07 2021-11-07  \n",
              "110653             15          3.25   2022-03-13 2022-03-13  \n",
              "\n",
              "[4 rows x 23 columns]"
            ],
            "text/html": [
              "\n",
              "  <div id=\"df-0f2551cb-a3b8-4f3d-b2cb-46534affd0b2\">\n",
              "    <div class=\"colab-df-container\">\n",
              "      <div>\n",
              "<style scoped>\n",
              "    .dataframe tbody tr th:only-of-type {\n",
              "        vertical-align: middle;\n",
              "    }\n",
              "\n",
              "    .dataframe tbody tr th {\n",
              "        vertical-align: top;\n",
              "    }\n",
              "\n",
              "    .dataframe thead th {\n",
              "        text-align: right;\n",
              "    }\n",
              "</style>\n",
              "<table border=\"1\" class=\"dataframe\">\n",
              "  <thead>\n",
              "    <tr style=\"text-align: right;\">\n",
              "      <th></th>\n",
              "      <th>ServiceAgreement</th>\n",
              "      <th>IntervalStart</th>\n",
              "      <th>IntervalEnd</th>\n",
              "      <th>Quantity</th>\n",
              "      <th>UnitOfMeasure</th>\n",
              "      <th>dt_start</th>\n",
              "      <th>dt_end</th>\n",
              "      <th>diff_dt_start</th>\n",
              "      <th>diff_dt_end</th>\n",
              "      <th>dt_start_year</th>\n",
              "      <th>...</th>\n",
              "      <th>dt_end_year</th>\n",
              "      <th>dt_end_month</th>\n",
              "      <th>dt_end_day</th>\n",
              "      <th>dt_end_hour</th>\n",
              "      <th>dt_start_minute</th>\n",
              "      <th>dt_start_hrmin</th>\n",
              "      <th>dt_end_minute</th>\n",
              "      <th>dt_end_hrmin</th>\n",
              "      <th>dt_start_dt</th>\n",
              "      <th>dt_end_dt</th>\n",
              "    </tr>\n",
              "  </thead>\n",
              "  <tbody>\n",
              "    <tr>\n",
              "      <th>0</th>\n",
              "      <td>POOLER, MADELEINE / Residential Net Metering /...</td>\n",
              "      <td>2021-05-23-00:00:00</td>\n",
              "      <td>2021-05-23-00:15:00</td>\n",
              "      <td>0.0</td>\n",
              "      <td>kWh</td>\n",
              "      <td>2021-05-23 00:00:00</td>\n",
              "      <td>2021-05-23 00:15:00</td>\n",
              "      <td>NaT</td>\n",
              "      <td>NaT</td>\n",
              "      <td>2021</td>\n",
              "      <td>...</td>\n",
              "      <td>2021</td>\n",
              "      <td>5</td>\n",
              "      <td>23</td>\n",
              "      <td>0</td>\n",
              "      <td>0</td>\n",
              "      <td>0.00</td>\n",
              "      <td>15</td>\n",
              "      <td>0.25</td>\n",
              "      <td>2021-05-23</td>\n",
              "      <td>2021-05-23</td>\n",
              "    </tr>\n",
              "    <tr>\n",
              "      <th>59147</th>\n",
              "      <td>POOLER, MADELEINE / Residential Net Metering /...</td>\n",
              "      <td>2021-10-24-01:00:00</td>\n",
              "      <td>2021-10-24-01:15:00</td>\n",
              "      <td>0.0</td>\n",
              "      <td>kWh</td>\n",
              "      <td>2021-10-24 01:00:00</td>\n",
              "      <td>2021-10-24 01:15:00</td>\n",
              "      <td>0 days 01:15:00</td>\n",
              "      <td>0 days 01:15:00</td>\n",
              "      <td>2021</td>\n",
              "      <td>...</td>\n",
              "      <td>2021</td>\n",
              "      <td>10</td>\n",
              "      <td>24</td>\n",
              "      <td>1</td>\n",
              "      <td>0</td>\n",
              "      <td>1.00</td>\n",
              "      <td>15</td>\n",
              "      <td>1.25</td>\n",
              "      <td>2021-10-24</td>\n",
              "      <td>2021-10-24</td>\n",
              "    </tr>\n",
              "    <tr>\n",
              "      <th>64551</th>\n",
              "      <td>POOLER, MADELEINE / Residential Net Metering /...</td>\n",
              "      <td>2021-11-07-01:45:00</td>\n",
              "      <td>2021-11-07-02:00:00</td>\n",
              "      <td>0.0</td>\n",
              "      <td>kWh</td>\n",
              "      <td>2021-11-07 01:45:00</td>\n",
              "      <td>2021-11-07 02:00:00</td>\n",
              "      <td>0 days 00:00:00</td>\n",
              "      <td>0 days 01:00:00</td>\n",
              "      <td>2021</td>\n",
              "      <td>...</td>\n",
              "      <td>2021</td>\n",
              "      <td>11</td>\n",
              "      <td>7</td>\n",
              "      <td>2</td>\n",
              "      <td>45</td>\n",
              "      <td>1.75</td>\n",
              "      <td>0</td>\n",
              "      <td>2.00</td>\n",
              "      <td>2021-11-07</td>\n",
              "      <td>2021-11-07</td>\n",
              "    </tr>\n",
              "    <tr>\n",
              "      <th>110653</th>\n",
              "      <td>POOLER, MADELEINE / Residential Net Metering /...</td>\n",
              "      <td>2022-03-13-03:00:00</td>\n",
              "      <td>2022-03-13-03:15:00</td>\n",
              "      <td>0.0</td>\n",
              "      <td>kWh</td>\n",
              "      <td>2022-03-13 03:00:00</td>\n",
              "      <td>2022-03-13 03:15:00</td>\n",
              "      <td>0 days 01:15:00</td>\n",
              "      <td>0 days 00:15:00</td>\n",
              "      <td>2022</td>\n",
              "      <td>...</td>\n",
              "      <td>2022</td>\n",
              "      <td>3</td>\n",
              "      <td>13</td>\n",
              "      <td>3</td>\n",
              "      <td>0</td>\n",
              "      <td>3.00</td>\n",
              "      <td>15</td>\n",
              "      <td>3.25</td>\n",
              "      <td>2022-03-13</td>\n",
              "      <td>2022-03-13</td>\n",
              "    </tr>\n",
              "  </tbody>\n",
              "</table>\n",
              "<p>4 rows × 23 columns</p>\n",
              "</div>\n",
              "      <button class=\"colab-df-convert\" onclick=\"convertToInteractive('df-0f2551cb-a3b8-4f3d-b2cb-46534affd0b2')\"\n",
              "              title=\"Convert this dataframe to an interactive table.\"\n",
              "              style=\"display:none;\">\n",
              "        \n",
              "  <svg xmlns=\"http://www.w3.org/2000/svg\" height=\"24px\"viewBox=\"0 0 24 24\"\n",
              "       width=\"24px\">\n",
              "    <path d=\"M0 0h24v24H0V0z\" fill=\"none\"/>\n",
              "    <path d=\"M18.56 5.44l.94 2.06.94-2.06 2.06-.94-2.06-.94-.94-2.06-.94 2.06-2.06.94zm-11 1L8.5 8.5l.94-2.06 2.06-.94-2.06-.94L8.5 2.5l-.94 2.06-2.06.94zm10 10l.94 2.06.94-2.06 2.06-.94-2.06-.94-.94-2.06-.94 2.06-2.06.94z\"/><path d=\"M17.41 7.96l-1.37-1.37c-.4-.4-.92-.59-1.43-.59-.52 0-1.04.2-1.43.59L10.3 9.45l-7.72 7.72c-.78.78-.78 2.05 0 2.83L4 21.41c.39.39.9.59 1.41.59.51 0 1.02-.2 1.41-.59l7.78-7.78 2.81-2.81c.8-.78.8-2.07 0-2.86zM5.41 20L4 18.59l7.72-7.72 1.47 1.35L5.41 20z\"/>\n",
              "  </svg>\n",
              "      </button>\n",
              "      \n",
              "  <style>\n",
              "    .colab-df-container {\n",
              "      display:flex;\n",
              "      flex-wrap:wrap;\n",
              "      gap: 12px;\n",
              "    }\n",
              "\n",
              "    .colab-df-convert {\n",
              "      background-color: #E8F0FE;\n",
              "      border: none;\n",
              "      border-radius: 50%;\n",
              "      cursor: pointer;\n",
              "      display: none;\n",
              "      fill: #1967D2;\n",
              "      height: 32px;\n",
              "      padding: 0 0 0 0;\n",
              "      width: 32px;\n",
              "    }\n",
              "\n",
              "    .colab-df-convert:hover {\n",
              "      background-color: #E2EBFA;\n",
              "      box-shadow: 0px 1px 2px rgba(60, 64, 67, 0.3), 0px 1px 3px 1px rgba(60, 64, 67, 0.15);\n",
              "      fill: #174EA6;\n",
              "    }\n",
              "\n",
              "    [theme=dark] .colab-df-convert {\n",
              "      background-color: #3B4455;\n",
              "      fill: #D2E3FC;\n",
              "    }\n",
              "\n",
              "    [theme=dark] .colab-df-convert:hover {\n",
              "      background-color: #434B5C;\n",
              "      box-shadow: 0px 1px 3px 1px rgba(0, 0, 0, 0.15);\n",
              "      filter: drop-shadow(0px 1px 2px rgba(0, 0, 0, 0.3));\n",
              "      fill: #FFFFFF;\n",
              "    }\n",
              "  </style>\n",
              "\n",
              "      <script>\n",
              "        const buttonEl =\n",
              "          document.querySelector('#df-0f2551cb-a3b8-4f3d-b2cb-46534affd0b2 button.colab-df-convert');\n",
              "        buttonEl.style.display =\n",
              "          google.colab.kernel.accessAllowed ? 'block' : 'none';\n",
              "\n",
              "        async function convertToInteractive(key) {\n",
              "          const element = document.querySelector('#df-0f2551cb-a3b8-4f3d-b2cb-46534affd0b2');\n",
              "          const dataTable =\n",
              "            await google.colab.kernel.invokeFunction('convertToInteractive',\n",
              "                                                     [key], {});\n",
              "          if (!dataTable) return;\n",
              "\n",
              "          const docLinkHtml = 'Like what you see? Visit the ' +\n",
              "            '<a target=\"_blank\" href=https://colab.research.google.com/notebooks/data_table.ipynb>data table notebook</a>'\n",
              "            + ' to learn more about interactive tables.';\n",
              "          element.innerHTML = '';\n",
              "          dataTable['output_type'] = 'display_data';\n",
              "          await google.colab.output.renderOutput(dataTable, element);\n",
              "          const docLink = document.createElement('div');\n",
              "          docLink.innerHTML = docLinkHtml;\n",
              "          element.appendChild(docLink);\n",
              "        }\n",
              "      </script>\n",
              "    </div>\n",
              "  </div>\n",
              "  "
            ]
          },
          "metadata": {},
          "execution_count": 44
        }
      ]
    },
    {
      "cell_type": "markdown",
      "source": [
        "# Review"
      ],
      "metadata": {
        "id": "sB9XyBHiqhoc"
      }
    },
    {
      "cell_type": "markdown",
      "source": [
        "# Analyze"
      ],
      "metadata": {
        "id": "TFpXmtRdqjiR"
      }
    },
    {
      "cell_type": "code",
      "source": [
        "df_solar_data_sums_by_day = df_solar_data.groupby(['dt_start_dt'], as_index=False).agg({'Quantity':'sum'})"
      ],
      "metadata": {
        "id": "4uHTlZ072eJl"
      },
      "execution_count": 45,
      "outputs": []
    },
    {
      "cell_type": "markdown",
      "source": [
        "# Charts"
      ],
      "metadata": {
        "id": "03fEw0q51Qcu"
      }
    },
    {
      "cell_type": "code",
      "source": [
        "df_ch = df_solar_data[['dt_start', 'dt_start_year', 'dt_start_month', 'dt_start_day', 'dt_start_hour',\n",
        "       'dt_start_minute', 'dt_start_hrmin','Quantity']]"
      ],
      "metadata": {
        "id": "hRqAH40I2bUL"
      },
      "execution_count": 46,
      "outputs": []
    },
    {
      "cell_type": "code",
      "source": [
        "df_solar_data_sums_by_day"
      ],
      "metadata": {
        "id": "SLJFEXS92bx6",
        "outputId": "ef7e183e-63be-4693-83ed-7b8641a256b4",
        "colab": {
          "base_uri": "https://localhost:8080/",
          "height": 424
        }
      },
      "execution_count": 47,
      "outputs": [
        {
          "output_type": "execute_result",
          "data": {
            "text/plain": [
              "    dt_start_dt  Quantity\n",
              "0    2021-05-23     14.23\n",
              "1    2021-05-24     37.34\n",
              "2    2021-05-25     24.34\n",
              "3    2021-05-26     22.90\n",
              "4    2021-05-27     30.47\n",
              "..          ...       ...\n",
              "298  2022-03-17     22.15\n",
              "299  2022-03-18      8.65\n",
              "300  2022-03-19      3.02\n",
              "301  2022-03-20      4.97\n",
              "302  2022-03-21     27.46\n",
              "\n",
              "[303 rows x 2 columns]"
            ],
            "text/html": [
              "\n",
              "  <div id=\"df-59f279c4-ccd5-4949-b1d5-eaf70625d3c0\">\n",
              "    <div class=\"colab-df-container\">\n",
              "      <div>\n",
              "<style scoped>\n",
              "    .dataframe tbody tr th:only-of-type {\n",
              "        vertical-align: middle;\n",
              "    }\n",
              "\n",
              "    .dataframe tbody tr th {\n",
              "        vertical-align: top;\n",
              "    }\n",
              "\n",
              "    .dataframe thead th {\n",
              "        text-align: right;\n",
              "    }\n",
              "</style>\n",
              "<table border=\"1\" class=\"dataframe\">\n",
              "  <thead>\n",
              "    <tr style=\"text-align: right;\">\n",
              "      <th></th>\n",
              "      <th>dt_start_dt</th>\n",
              "      <th>Quantity</th>\n",
              "    </tr>\n",
              "  </thead>\n",
              "  <tbody>\n",
              "    <tr>\n",
              "      <th>0</th>\n",
              "      <td>2021-05-23</td>\n",
              "      <td>14.23</td>\n",
              "    </tr>\n",
              "    <tr>\n",
              "      <th>1</th>\n",
              "      <td>2021-05-24</td>\n",
              "      <td>37.34</td>\n",
              "    </tr>\n",
              "    <tr>\n",
              "      <th>2</th>\n",
              "      <td>2021-05-25</td>\n",
              "      <td>24.34</td>\n",
              "    </tr>\n",
              "    <tr>\n",
              "      <th>3</th>\n",
              "      <td>2021-05-26</td>\n",
              "      <td>22.90</td>\n",
              "    </tr>\n",
              "    <tr>\n",
              "      <th>4</th>\n",
              "      <td>2021-05-27</td>\n",
              "      <td>30.47</td>\n",
              "    </tr>\n",
              "    <tr>\n",
              "      <th>...</th>\n",
              "      <td>...</td>\n",
              "      <td>...</td>\n",
              "    </tr>\n",
              "    <tr>\n",
              "      <th>298</th>\n",
              "      <td>2022-03-17</td>\n",
              "      <td>22.15</td>\n",
              "    </tr>\n",
              "    <tr>\n",
              "      <th>299</th>\n",
              "      <td>2022-03-18</td>\n",
              "      <td>8.65</td>\n",
              "    </tr>\n",
              "    <tr>\n",
              "      <th>300</th>\n",
              "      <td>2022-03-19</td>\n",
              "      <td>3.02</td>\n",
              "    </tr>\n",
              "    <tr>\n",
              "      <th>301</th>\n",
              "      <td>2022-03-20</td>\n",
              "      <td>4.97</td>\n",
              "    </tr>\n",
              "    <tr>\n",
              "      <th>302</th>\n",
              "      <td>2022-03-21</td>\n",
              "      <td>27.46</td>\n",
              "    </tr>\n",
              "  </tbody>\n",
              "</table>\n",
              "<p>303 rows × 2 columns</p>\n",
              "</div>\n",
              "      <button class=\"colab-df-convert\" onclick=\"convertToInteractive('df-59f279c4-ccd5-4949-b1d5-eaf70625d3c0')\"\n",
              "              title=\"Convert this dataframe to an interactive table.\"\n",
              "              style=\"display:none;\">\n",
              "        \n",
              "  <svg xmlns=\"http://www.w3.org/2000/svg\" height=\"24px\"viewBox=\"0 0 24 24\"\n",
              "       width=\"24px\">\n",
              "    <path d=\"M0 0h24v24H0V0z\" fill=\"none\"/>\n",
              "    <path d=\"M18.56 5.44l.94 2.06.94-2.06 2.06-.94-2.06-.94-.94-2.06-.94 2.06-2.06.94zm-11 1L8.5 8.5l.94-2.06 2.06-.94-2.06-.94L8.5 2.5l-.94 2.06-2.06.94zm10 10l.94 2.06.94-2.06 2.06-.94-2.06-.94-.94-2.06-.94 2.06-2.06.94z\"/><path d=\"M17.41 7.96l-1.37-1.37c-.4-.4-.92-.59-1.43-.59-.52 0-1.04.2-1.43.59L10.3 9.45l-7.72 7.72c-.78.78-.78 2.05 0 2.83L4 21.41c.39.39.9.59 1.41.59.51 0 1.02-.2 1.41-.59l7.78-7.78 2.81-2.81c.8-.78.8-2.07 0-2.86zM5.41 20L4 18.59l7.72-7.72 1.47 1.35L5.41 20z\"/>\n",
              "  </svg>\n",
              "      </button>\n",
              "      \n",
              "  <style>\n",
              "    .colab-df-container {\n",
              "      display:flex;\n",
              "      flex-wrap:wrap;\n",
              "      gap: 12px;\n",
              "    }\n",
              "\n",
              "    .colab-df-convert {\n",
              "      background-color: #E8F0FE;\n",
              "      border: none;\n",
              "      border-radius: 50%;\n",
              "      cursor: pointer;\n",
              "      display: none;\n",
              "      fill: #1967D2;\n",
              "      height: 32px;\n",
              "      padding: 0 0 0 0;\n",
              "      width: 32px;\n",
              "    }\n",
              "\n",
              "    .colab-df-convert:hover {\n",
              "      background-color: #E2EBFA;\n",
              "      box-shadow: 0px 1px 2px rgba(60, 64, 67, 0.3), 0px 1px 3px 1px rgba(60, 64, 67, 0.15);\n",
              "      fill: #174EA6;\n",
              "    }\n",
              "\n",
              "    [theme=dark] .colab-df-convert {\n",
              "      background-color: #3B4455;\n",
              "      fill: #D2E3FC;\n",
              "    }\n",
              "\n",
              "    [theme=dark] .colab-df-convert:hover {\n",
              "      background-color: #434B5C;\n",
              "      box-shadow: 0px 1px 3px 1px rgba(0, 0, 0, 0.15);\n",
              "      filter: drop-shadow(0px 1px 2px rgba(0, 0, 0, 0.3));\n",
              "      fill: #FFFFFF;\n",
              "    }\n",
              "  </style>\n",
              "\n",
              "      <script>\n",
              "        const buttonEl =\n",
              "          document.querySelector('#df-59f279c4-ccd5-4949-b1d5-eaf70625d3c0 button.colab-df-convert');\n",
              "        buttonEl.style.display =\n",
              "          google.colab.kernel.accessAllowed ? 'block' : 'none';\n",
              "\n",
              "        async function convertToInteractive(key) {\n",
              "          const element = document.querySelector('#df-59f279c4-ccd5-4949-b1d5-eaf70625d3c0');\n",
              "          const dataTable =\n",
              "            await google.colab.kernel.invokeFunction('convertToInteractive',\n",
              "                                                     [key], {});\n",
              "          if (!dataTable) return;\n",
              "\n",
              "          const docLinkHtml = 'Like what you see? Visit the ' +\n",
              "            '<a target=\"_blank\" href=https://colab.research.google.com/notebooks/data_table.ipynb>data table notebook</a>'\n",
              "            + ' to learn more about interactive tables.';\n",
              "          element.innerHTML = '';\n",
              "          dataTable['output_type'] = 'display_data';\n",
              "          await google.colab.output.renderOutput(dataTable, element);\n",
              "          const docLink = document.createElement('div');\n",
              "          docLink.innerHTML = docLinkHtml;\n",
              "          element.appendChild(docLink);\n",
              "        }\n",
              "      </script>\n",
              "    </div>\n",
              "  </div>\n",
              "  "
            ]
          },
          "metadata": {},
          "execution_count": 47
        }
      ]
    },
    {
      "cell_type": "code",
      "source": [
        "\n",
        "\n",
        "alt.data_transformers.disable_max_rows()\n",
        "\n",
        "ch = alt.Chart(df_solar_data_sums_by_day).mark_line().encode(\n",
        "    x=alt.X('dt_start_dt:T'),\n",
        "    y=alt.Y('Quantity:Q')\n",
        ")\n",
        "\n",
        "ch.display()"
      ],
      "metadata": {
        "id": "LybFlgYT0jEf",
        "outputId": "21baaa63-ea3e-4676-a5a4-46ecb4c5d685",
        "colab": {
          "base_uri": "https://localhost:8080/",
          "height": 368
        }
      },
      "execution_count": 48,
      "outputs": [
        {
          "output_type": "display_data",
          "data": {
            "text/html": [
              "\n",
              "<div id=\"altair-viz-5c539967ba644f9791cb058c1c436628\"></div>\n",
              "<script type=\"text/javascript\">\n",
              "  var VEGA_DEBUG = (typeof VEGA_DEBUG == \"undefined\") ? {} : VEGA_DEBUG;\n",
              "  (function(spec, embedOpt){\n",
              "    let outputDiv = document.currentScript.previousElementSibling;\n",
              "    if (outputDiv.id !== \"altair-viz-5c539967ba644f9791cb058c1c436628\") {\n",
              "      outputDiv = document.getElementById(\"altair-viz-5c539967ba644f9791cb058c1c436628\");\n",
              "    }\n",
              "    const paths = {\n",
              "      \"vega\": \"https://cdn.jsdelivr.net/npm//vega@5?noext\",\n",
              "      \"vega-lib\": \"https://cdn.jsdelivr.net/npm//vega-lib?noext\",\n",
              "      \"vega-lite\": \"https://cdn.jsdelivr.net/npm//vega-lite@4.17.0?noext\",\n",
              "      \"vega-embed\": \"https://cdn.jsdelivr.net/npm//vega-embed@6?noext\",\n",
              "    };\n",
              "\n",
              "    function maybeLoadScript(lib, version) {\n",
              "      var key = `${lib.replace(\"-\", \"\")}_version`;\n",
              "      return (VEGA_DEBUG[key] == version) ?\n",
              "        Promise.resolve(paths[lib]) :\n",
              "        new Promise(function(resolve, reject) {\n",
              "          var s = document.createElement('script');\n",
              "          document.getElementsByTagName(\"head\")[0].appendChild(s);\n",
              "          s.async = true;\n",
              "          s.onload = () => {\n",
              "            VEGA_DEBUG[key] = version;\n",
              "            return resolve(paths[lib]);\n",
              "          };\n",
              "          s.onerror = () => reject(`Error loading script: ${paths[lib]}`);\n",
              "          s.src = paths[lib];\n",
              "        });\n",
              "    }\n",
              "\n",
              "    function showError(err) {\n",
              "      outputDiv.innerHTML = `<div class=\"error\" style=\"color:red;\">${err}</div>`;\n",
              "      throw err;\n",
              "    }\n",
              "\n",
              "    function displayChart(vegaEmbed) {\n",
              "      vegaEmbed(outputDiv, spec, embedOpt)\n",
              "        .catch(err => showError(`Javascript Error: ${err.message}<br>This usually means there's a typo in your chart specification. See the javascript console for the full traceback.`));\n",
              "    }\n",
              "\n",
              "    if(typeof define === \"function\" && define.amd) {\n",
              "      requirejs.config({paths});\n",
              "      require([\"vega-embed\"], displayChart, err => showError(`Error loading script: ${err.message}`));\n",
              "    } else {\n",
              "      maybeLoadScript(\"vega\", \"5\")\n",
              "        .then(() => maybeLoadScript(\"vega-lite\", \"4.17.0\"))\n",
              "        .then(() => maybeLoadScript(\"vega-embed\", \"6\"))\n",
              "        .catch(showError)\n",
              "        .then(() => displayChart(vegaEmbed));\n",
              "    }\n",
              "  })({\"config\": {\"view\": {\"continuousWidth\": 400, \"continuousHeight\": 300}}, \"data\": {\"name\": \"data-bbcb37b6ea0abc6b33003a3784c8e258\"}, \"mark\": \"line\", \"encoding\": {\"x\": {\"field\": \"dt_start_dt\", \"type\": \"temporal\"}, \"y\": {\"field\": \"Quantity\", \"type\": \"quantitative\"}}, \"$schema\": \"https://vega.github.io/schema/vega-lite/v4.17.0.json\", \"datasets\": {\"data-bbcb37b6ea0abc6b33003a3784c8e258\": [{\"dt_start_dt\": \"2021-05-23T00:00:00\", \"Quantity\": 14.23}, {\"dt_start_dt\": \"2021-05-24T00:00:00\", \"Quantity\": 37.339999999999996}, {\"dt_start_dt\": \"2021-05-25T00:00:00\", \"Quantity\": 24.34}, {\"dt_start_dt\": \"2021-05-26T00:00:00\", \"Quantity\": 22.9}, {\"dt_start_dt\": \"2021-05-27T00:00:00\", \"Quantity\": 30.47}, {\"dt_start_dt\": \"2021-05-28T00:00:00\", \"Quantity\": 11.92}, {\"dt_start_dt\": \"2021-05-29T00:00:00\", \"Quantity\": 22.08}, {\"dt_start_dt\": \"2021-05-30T00:00:00\", \"Quantity\": 7.86}, {\"dt_start_dt\": \"2021-05-31T00:00:00\", \"Quantity\": 12.21}, {\"dt_start_dt\": \"2021-06-01T00:00:00\", \"Quantity\": 20.93}, {\"dt_start_dt\": \"2021-06-02T00:00:00\", \"Quantity\": 30.42}, {\"dt_start_dt\": \"2021-06-03T00:00:00\", \"Quantity\": 8.96}, {\"dt_start_dt\": \"2021-06-04T00:00:00\", \"Quantity\": 25.6}, {\"dt_start_dt\": \"2021-06-05T00:00:00\", \"Quantity\": 21.080000000000002}, {\"dt_start_dt\": \"2021-06-06T00:00:00\", \"Quantity\": 28.18}, {\"dt_start_dt\": \"2021-06-07T00:00:00\", \"Quantity\": 29.11}, {\"dt_start_dt\": \"2021-06-08T00:00:00\", \"Quantity\": 9.15}, {\"dt_start_dt\": \"2021-06-09T00:00:00\", \"Quantity\": 31.88}, {\"dt_start_dt\": \"2021-06-10T00:00:00\", \"Quantity\": 32.15}, {\"dt_start_dt\": \"2021-06-11T00:00:00\", \"Quantity\": 5.24}, {\"dt_start_dt\": \"2021-06-12T00:00:00\", \"Quantity\": 27.21}, {\"dt_start_dt\": \"2021-06-13T00:00:00\", \"Quantity\": 22.85}, {\"dt_start_dt\": \"2021-06-14T00:00:00\", \"Quantity\": 1.95}, {\"dt_start_dt\": \"2021-06-15T00:00:00\", \"Quantity\": 16.71}, {\"dt_start_dt\": \"2021-06-16T00:00:00\", \"Quantity\": 19.73}, {\"dt_start_dt\": \"2021-06-17T00:00:00\", \"Quantity\": 35.41}, {\"dt_start_dt\": \"2021-06-18T00:00:00\", \"Quantity\": 26.1}, {\"dt_start_dt\": \"2021-06-19T00:00:00\", \"Quantity\": 24.29}, {\"dt_start_dt\": \"2021-06-20T00:00:00\", \"Quantity\": 26.990000000000002}, {\"dt_start_dt\": \"2021-06-21T00:00:00\", \"Quantity\": 16.48}, {\"dt_start_dt\": \"2021-06-22T00:00:00\", \"Quantity\": 1.42}, {\"dt_start_dt\": \"2021-06-23T00:00:00\", \"Quantity\": 30.74}, {\"dt_start_dt\": \"2021-06-24T00:00:00\", \"Quantity\": 34.8}, {\"dt_start_dt\": \"2021-06-25T00:00:00\", \"Quantity\": 31.18}, {\"dt_start_dt\": \"2021-06-26T00:00:00\", \"Quantity\": 10.43}, {\"dt_start_dt\": \"2021-06-27T00:00:00\", \"Quantity\": 27.72}, {\"dt_start_dt\": \"2021-06-28T00:00:00\", \"Quantity\": 23.55}, {\"dt_start_dt\": \"2021-06-29T00:00:00\", \"Quantity\": 20.330000000000002}, {\"dt_start_dt\": \"2021-06-30T00:00:00\", \"Quantity\": 10.99}, {\"dt_start_dt\": \"2021-07-01T00:00:00\", \"Quantity\": 13.08}, {\"dt_start_dt\": \"2021-07-02T00:00:00\", \"Quantity\": 0.02}, {\"dt_start_dt\": \"2021-07-03T00:00:00\", \"Quantity\": 4.7700000000000005}, {\"dt_start_dt\": \"2021-07-04T00:00:00\", \"Quantity\": 13.18}, {\"dt_start_dt\": \"2021-07-05T00:00:00\", \"Quantity\": 29.85}, {\"dt_start_dt\": \"2021-07-06T00:00:00\", \"Quantity\": 21.47}, {\"dt_start_dt\": \"2021-07-07T00:00:00\", \"Quantity\": 10.45}, {\"dt_start_dt\": \"2021-07-08T00:00:00\", \"Quantity\": 11.64}, {\"dt_start_dt\": \"2021-07-09T00:00:00\", \"Quantity\": 20.55}, {\"dt_start_dt\": \"2021-07-10T00:00:00\", \"Quantity\": 29.5}, {\"dt_start_dt\": \"2021-07-11T00:00:00\", \"Quantity\": 17.57}, {\"dt_start_dt\": \"2021-07-12T00:00:00\", \"Quantity\": 15.12}, {\"dt_start_dt\": \"2021-07-13T00:00:00\", \"Quantity\": 5.76}, {\"dt_start_dt\": \"2021-07-14T00:00:00\", \"Quantity\": 25.03}, {\"dt_start_dt\": \"2021-07-15T00:00:00\", \"Quantity\": 32.5}, {\"dt_start_dt\": \"2021-07-16T00:00:00\", \"Quantity\": 20.07}, {\"dt_start_dt\": \"2021-07-17T00:00:00\", \"Quantity\": 3.63}, {\"dt_start_dt\": \"2021-07-18T00:00:00\", \"Quantity\": 5.38}, {\"dt_start_dt\": \"2021-07-19T00:00:00\", \"Quantity\": 11.84}, {\"dt_start_dt\": \"2021-07-20T00:00:00\", \"Quantity\": 24.99}, {\"dt_start_dt\": \"2021-07-21T00:00:00\", \"Quantity\": 11.39}, {\"dt_start_dt\": \"2021-07-22T00:00:00\", \"Quantity\": 26.85}, {\"dt_start_dt\": \"2021-07-23T00:00:00\", \"Quantity\": 27.51}, {\"dt_start_dt\": \"2021-07-24T00:00:00\", \"Quantity\": 26.77}, {\"dt_start_dt\": \"2021-07-25T00:00:00\", \"Quantity\": 22.12}, {\"dt_start_dt\": \"2021-07-26T00:00:00\", \"Quantity\": 22.32}, {\"dt_start_dt\": \"2021-07-27T00:00:00\", \"Quantity\": 18.96}, {\"dt_start_dt\": \"2021-07-28T00:00:00\", \"Quantity\": 32.17}, {\"dt_start_dt\": \"2021-07-29T00:00:00\", \"Quantity\": 12.61}, {\"dt_start_dt\": \"2021-07-30T00:00:00\", \"Quantity\": 22.650000000000002}, {\"dt_start_dt\": \"2021-07-31T00:00:00\", \"Quantity\": 25.88}, {\"dt_start_dt\": \"2021-08-01T00:00:00\", \"Quantity\": 6.99}, {\"dt_start_dt\": \"2021-08-02T00:00:00\", \"Quantity\": 29.82}, {\"dt_start_dt\": \"2021-08-03T00:00:00\", \"Quantity\": 32.85}, {\"dt_start_dt\": \"2021-08-04T00:00:00\", \"Quantity\": 27.06}, {\"dt_start_dt\": \"2021-08-05T00:00:00\", \"Quantity\": 28.68}, {\"dt_start_dt\": \"2021-08-06T00:00:00\", \"Quantity\": 26.98}, {\"dt_start_dt\": \"2021-08-07T00:00:00\", \"Quantity\": 22.580000000000002}, {\"dt_start_dt\": \"2021-08-08T00:00:00\", \"Quantity\": 20.66}, {\"dt_start_dt\": \"2021-08-09T00:00:00\", \"Quantity\": 29.48}, {\"dt_start_dt\": \"2021-08-10T00:00:00\", \"Quantity\": 31.45}, {\"dt_start_dt\": \"2021-08-11T00:00:00\", \"Quantity\": 26.22}, {\"dt_start_dt\": \"2021-08-12T00:00:00\", \"Quantity\": 22.69}, {\"dt_start_dt\": \"2021-08-13T00:00:00\", \"Quantity\": 32.45}, {\"dt_start_dt\": \"2021-08-14T00:00:00\", \"Quantity\": 19.18}, {\"dt_start_dt\": \"2021-08-15T00:00:00\", \"Quantity\": 35.91}, {\"dt_start_dt\": \"2021-08-16T00:00:00\", \"Quantity\": 32.94}, {\"dt_start_dt\": \"2021-08-17T00:00:00\", \"Quantity\": 8.91}, {\"dt_start_dt\": \"2021-08-18T00:00:00\", \"Quantity\": 8.32}, {\"dt_start_dt\": \"2021-08-19T00:00:00\", \"Quantity\": 5.13}, {\"dt_start_dt\": \"2021-08-20T00:00:00\", \"Quantity\": 28.45}, {\"dt_start_dt\": \"2021-08-21T00:00:00\", \"Quantity\": 22.4}, {\"dt_start_dt\": \"2021-08-22T00:00:00\", \"Quantity\": 15.82}, {\"dt_start_dt\": \"2021-08-23T00:00:00\", \"Quantity\": 13.01}, {\"dt_start_dt\": \"2021-08-24T00:00:00\", \"Quantity\": 23.330000000000002}, {\"dt_start_dt\": \"2021-08-25T00:00:00\", \"Quantity\": 32.38}, {\"dt_start_dt\": \"2021-08-26T00:00:00\", \"Quantity\": 29.45}, {\"dt_start_dt\": \"2021-08-27T00:00:00\", \"Quantity\": 23.62}, {\"dt_start_dt\": \"2021-08-28T00:00:00\", \"Quantity\": 5.82}, {\"dt_start_dt\": \"2021-08-29T00:00:00\", \"Quantity\": 7.07}, {\"dt_start_dt\": \"2021-08-30T00:00:00\", \"Quantity\": 18.22}, {\"dt_start_dt\": \"2021-08-31T00:00:00\", \"Quantity\": 31.37}, {\"dt_start_dt\": \"2021-09-01T00:00:00\", \"Quantity\": 9.75}, {\"dt_start_dt\": \"2021-09-02T00:00:00\", \"Quantity\": 26.11}, {\"dt_start_dt\": \"2021-09-03T00:00:00\", \"Quantity\": 21.580000000000002}, {\"dt_start_dt\": \"2021-09-04T00:00:00\", \"Quantity\": 33.76}, {\"dt_start_dt\": \"2021-09-05T00:00:00\", \"Quantity\": 11.290000000000001}, {\"dt_start_dt\": \"2021-09-06T00:00:00\", \"Quantity\": 16.45}, {\"dt_start_dt\": \"2021-09-07T00:00:00\", \"Quantity\": 27.66}, {\"dt_start_dt\": \"2021-09-08T00:00:00\", \"Quantity\": 23.89}, {\"dt_start_dt\": \"2021-09-09T00:00:00\", \"Quantity\": 8.01}, {\"dt_start_dt\": \"2021-09-10T00:00:00\", \"Quantity\": 19.7}, {\"dt_start_dt\": \"2021-09-11T00:00:00\", \"Quantity\": 29.580000000000002}, {\"dt_start_dt\": \"2021-09-12T00:00:00\", \"Quantity\": 10.76}, {\"dt_start_dt\": \"2021-09-13T00:00:00\", \"Quantity\": 29.03}, {\"dt_start_dt\": \"2021-09-14T00:00:00\", \"Quantity\": 25.59}, {\"dt_start_dt\": \"2021-09-15T00:00:00\", \"Quantity\": 11.22}, {\"dt_start_dt\": \"2021-09-16T00:00:00\", \"Quantity\": 33.82}, {\"dt_start_dt\": \"2021-09-17T00:00:00\", \"Quantity\": 11.19}, {\"dt_start_dt\": \"2021-09-18T00:00:00\", \"Quantity\": 15.700000000000001}, {\"dt_start_dt\": \"2021-09-19T00:00:00\", \"Quantity\": 26.47}, {\"dt_start_dt\": \"2021-09-20T00:00:00\", \"Quantity\": 33.24}, {\"dt_start_dt\": \"2021-09-21T00:00:00\", \"Quantity\": 28.99}, {\"dt_start_dt\": \"2021-09-22T00:00:00\", \"Quantity\": 13.7}, {\"dt_start_dt\": \"2021-09-23T00:00:00\", \"Quantity\": 14.82}, {\"dt_start_dt\": \"2021-09-24T00:00:00\", \"Quantity\": 24.73}, {\"dt_start_dt\": \"2021-09-25T00:00:00\", \"Quantity\": 28.89}, {\"dt_start_dt\": \"2021-09-26T00:00:00\", \"Quantity\": 21.38}, {\"dt_start_dt\": \"2021-09-27T00:00:00\", \"Quantity\": 0.5}, {\"dt_start_dt\": \"2021-09-28T00:00:00\", \"Quantity\": 6.14}, {\"dt_start_dt\": \"2021-09-29T00:00:00\", \"Quantity\": 12.9}, {\"dt_start_dt\": \"2021-09-30T00:00:00\", \"Quantity\": 6.95}, {\"dt_start_dt\": \"2021-10-01T00:00:00\", \"Quantity\": 22.35}, {\"dt_start_dt\": \"2021-10-02T00:00:00\", \"Quantity\": 0.33}, {\"dt_start_dt\": \"2021-10-03T00:00:00\", \"Quantity\": 7.46}, {\"dt_start_dt\": \"2021-10-04T00:00:00\", \"Quantity\": 1.36}, {\"dt_start_dt\": \"2021-10-05T00:00:00\", \"Quantity\": 13.23}, {\"dt_start_dt\": \"2021-10-06T00:00:00\", \"Quantity\": 15.76}, {\"dt_start_dt\": \"2021-10-07T00:00:00\", \"Quantity\": 22.33}, {\"dt_start_dt\": \"2021-10-08T00:00:00\", \"Quantity\": 30.1}, {\"dt_start_dt\": \"2021-10-09T00:00:00\", \"Quantity\": 15.92}, {\"dt_start_dt\": \"2021-10-10T00:00:00\", \"Quantity\": 11.01}, {\"dt_start_dt\": \"2021-10-11T00:00:00\", \"Quantity\": 17.23}, {\"dt_start_dt\": \"2021-10-12T00:00:00\", \"Quantity\": 23.330000000000002}, {\"dt_start_dt\": \"2021-10-13T00:00:00\", \"Quantity\": 16.95}, {\"dt_start_dt\": \"2021-10-14T00:00:00\", \"Quantity\": 15.28}, {\"dt_start_dt\": \"2021-10-15T00:00:00\", \"Quantity\": 7.72}, {\"dt_start_dt\": \"2021-10-16T00:00:00\", \"Quantity\": 8.45}, {\"dt_start_dt\": \"2021-10-17T00:00:00\", \"Quantity\": 14.48}, {\"dt_start_dt\": \"2021-10-18T00:00:00\", \"Quantity\": 5.81}, {\"dt_start_dt\": \"2021-10-19T00:00:00\", \"Quantity\": 10.84}, {\"dt_start_dt\": \"2021-10-20T00:00:00\", \"Quantity\": 24.98}, {\"dt_start_dt\": \"2021-10-21T00:00:00\", \"Quantity\": 3.36}, {\"dt_start_dt\": \"2021-10-22T00:00:00\", \"Quantity\": 20.79}, {\"dt_start_dt\": \"2021-10-23T00:00:00\", \"Quantity\": 18.89}, {\"dt_start_dt\": \"2021-10-24T00:00:00\", \"Quantity\": 29.73}, {\"dt_start_dt\": \"2021-10-25T00:00:00\", \"Quantity\": 0.08}, {\"dt_start_dt\": \"2021-10-26T00:00:00\", \"Quantity\": 0.53}, {\"dt_start_dt\": \"2021-10-27T00:00:00\", \"Quantity\": 8.84}, {\"dt_start_dt\": \"2021-10-28T00:00:00\", \"Quantity\": 14.299999999999999}, {\"dt_start_dt\": \"2021-10-29T00:00:00\", \"Quantity\": 27.96}, {\"dt_start_dt\": \"2021-10-30T00:00:00\", \"Quantity\": 1.6400000000000001}, {\"dt_start_dt\": \"2021-10-31T00:00:00\", \"Quantity\": 0.05}, {\"dt_start_dt\": \"2021-11-01T00:00:00\", \"Quantity\": 24.5}, {\"dt_start_dt\": \"2021-11-02T00:00:00\", \"Quantity\": 11.63}, {\"dt_start_dt\": \"2021-11-03T00:00:00\", \"Quantity\": 8.040000000000001}, {\"dt_start_dt\": \"2021-11-04T00:00:00\", \"Quantity\": 12.29}, {\"dt_start_dt\": \"2021-11-05T00:00:00\", \"Quantity\": 27.64}, {\"dt_start_dt\": \"2021-11-06T00:00:00\", \"Quantity\": 26.38}, {\"dt_start_dt\": \"2021-11-07T00:00:00\", \"Quantity\": 28.3}, {\"dt_start_dt\": \"2021-11-08T00:00:00\", \"Quantity\": 25.38}, {\"dt_start_dt\": \"2021-11-09T00:00:00\", \"Quantity\": 16.89}, {\"dt_start_dt\": \"2021-11-10T00:00:00\", \"Quantity\": 15.65}, {\"dt_start_dt\": \"2021-11-11T00:00:00\", \"Quantity\": 17.35}, {\"dt_start_dt\": \"2021-11-12T00:00:00\", \"Quantity\": 0.6}, {\"dt_start_dt\": \"2021-11-13T00:00:00\", \"Quantity\": 1.33}, {\"dt_start_dt\": \"2021-11-14T00:00:00\", \"Quantity\": 6.79}, {\"dt_start_dt\": \"2021-11-15T00:00:00\", \"Quantity\": 9.61}, {\"dt_start_dt\": \"2021-11-16T00:00:00\", \"Quantity\": 14.14}, {\"dt_start_dt\": \"2021-11-17T00:00:00\", \"Quantity\": 4.26}, {\"dt_start_dt\": \"2021-11-18T00:00:00\", \"Quantity\": 5.4}, {\"dt_start_dt\": \"2021-11-19T00:00:00\", \"Quantity\": 12.120000000000001}, {\"dt_start_dt\": \"2021-11-20T00:00:00\", \"Quantity\": 23.93}, {\"dt_start_dt\": \"2021-11-21T00:00:00\", \"Quantity\": 20.13}, {\"dt_start_dt\": \"2021-11-22T00:00:00\", \"Quantity\": 5.01}, {\"dt_start_dt\": \"2021-11-23T00:00:00\", \"Quantity\": 22.56}, {\"dt_start_dt\": \"2021-11-24T00:00:00\", \"Quantity\": 24.650000000000002}, {\"dt_start_dt\": \"2021-11-25T00:00:00\", \"Quantity\": 0.27}, {\"dt_start_dt\": \"2021-11-26T00:00:00\", \"Quantity\": 0.0}, {\"dt_start_dt\": \"2021-11-27T00:00:00\", \"Quantity\": 3.6}, {\"dt_start_dt\": \"2021-11-28T00:00:00\", \"Quantity\": 4.89}, {\"dt_start_dt\": \"2021-11-29T00:00:00\", \"Quantity\": 15.36}, {\"dt_start_dt\": \"2021-11-30T00:00:00\", \"Quantity\": 6.79}, {\"dt_start_dt\": \"2021-12-01T00:00:00\", \"Quantity\": 12.63}, {\"dt_start_dt\": \"2021-12-02T00:00:00\", \"Quantity\": 0.38}, {\"dt_start_dt\": \"2021-12-03T00:00:00\", \"Quantity\": 20.06}, {\"dt_start_dt\": \"2021-12-04T00:00:00\", \"Quantity\": 18.55}, {\"dt_start_dt\": \"2021-12-05T00:00:00\", \"Quantity\": 11.23}, {\"dt_start_dt\": \"2021-12-06T00:00:00\", \"Quantity\": 0.63}, {\"dt_start_dt\": \"2021-12-07T00:00:00\", \"Quantity\": 16.01}, {\"dt_start_dt\": \"2021-12-08T00:00:00\", \"Quantity\": 0.11}, {\"dt_start_dt\": \"2021-12-09T00:00:00\", \"Quantity\": 2.33}, {\"dt_start_dt\": \"2021-12-10T00:00:00\", \"Quantity\": 0.22}, {\"dt_start_dt\": \"2021-12-11T00:00:00\", \"Quantity\": 0.0}, {\"dt_start_dt\": \"2021-12-12T00:00:00\", \"Quantity\": 16.330000000000002}, {\"dt_start_dt\": \"2021-12-13T00:00:00\", \"Quantity\": 5.11}, {\"dt_start_dt\": \"2021-12-14T00:00:00\", \"Quantity\": 24.19}, {\"dt_start_dt\": \"2021-12-15T00:00:00\", \"Quantity\": 9.3}, {\"dt_start_dt\": \"2021-12-16T00:00:00\", \"Quantity\": 10.93}, {\"dt_start_dt\": \"2021-12-17T00:00:00\", \"Quantity\": 23.29}, {\"dt_start_dt\": \"2021-12-18T00:00:00\", \"Quantity\": 0.0}, {\"dt_start_dt\": \"2021-12-19T00:00:00\", \"Quantity\": 0.39}, {\"dt_start_dt\": \"2021-12-20T00:00:00\", \"Quantity\": 3.94}, {\"dt_start_dt\": \"2021-12-21T00:00:00\", \"Quantity\": 16.91}, {\"dt_start_dt\": \"2021-12-22T00:00:00\", \"Quantity\": 9.28}, {\"dt_start_dt\": \"2021-12-23T00:00:00\", \"Quantity\": 17.4}, {\"dt_start_dt\": \"2021-12-24T00:00:00\", \"Quantity\": 2.8000000000000003}, {\"dt_start_dt\": \"2021-12-25T00:00:00\", \"Quantity\": 0.79}, {\"dt_start_dt\": \"2021-12-26T00:00:00\", \"Quantity\": 0.43999999999999995}, {\"dt_start_dt\": \"2021-12-27T00:00:00\", \"Quantity\": 1.48}, {\"dt_start_dt\": \"2021-12-28T00:00:00\", \"Quantity\": 0.54}, {\"dt_start_dt\": \"2021-12-29T00:00:00\", \"Quantity\": 2.02}, {\"dt_start_dt\": \"2021-12-30T00:00:00\", \"Quantity\": 6.24}, {\"dt_start_dt\": \"2021-12-31T00:00:00\", \"Quantity\": 0.34}, {\"dt_start_dt\": \"2022-01-01T00:00:00\", \"Quantity\": 0.030000000000000002}, {\"dt_start_dt\": \"2022-01-02T00:00:00\", \"Quantity\": 0.01}, {\"dt_start_dt\": \"2022-01-03T00:00:00\", \"Quantity\": 0.34}, {\"dt_start_dt\": \"2022-01-04T00:00:00\", \"Quantity\": 1.48}, {\"dt_start_dt\": \"2022-01-05T00:00:00\", \"Quantity\": 1.45}, {\"dt_start_dt\": \"2022-01-06T00:00:00\", \"Quantity\": 7.140000000000001}, {\"dt_start_dt\": \"2022-01-07T00:00:00\", \"Quantity\": 0.0}, {\"dt_start_dt\": \"2022-01-08T00:00:00\", \"Quantity\": 18.57}, {\"dt_start_dt\": \"2022-01-09T00:00:00\", \"Quantity\": 0.0}, {\"dt_start_dt\": \"2022-01-10T00:00:00\", \"Quantity\": 12.85}, {\"dt_start_dt\": \"2022-01-11T00:00:00\", \"Quantity\": 5.57}, {\"dt_start_dt\": \"2022-01-12T00:00:00\", \"Quantity\": 0.06}, {\"dt_start_dt\": \"2022-01-13T00:00:00\", \"Quantity\": 2.46}, {\"dt_start_dt\": \"2022-01-14T00:00:00\", \"Quantity\": 6.14}, {\"dt_start_dt\": \"2022-01-15T00:00:00\", \"Quantity\": 0.66}, {\"dt_start_dt\": \"2022-01-16T00:00:00\", \"Quantity\": 0.16999999999999998}, {\"dt_start_dt\": \"2022-01-17T00:00:00\", \"Quantity\": 0.0}, {\"dt_start_dt\": \"2022-01-18T00:00:00\", \"Quantity\": 13.15}, {\"dt_start_dt\": \"2022-01-19T00:00:00\", \"Quantity\": 5.63}, {\"dt_start_dt\": \"2022-01-20T00:00:00\", \"Quantity\": 26.72}, {\"dt_start_dt\": \"2022-01-21T00:00:00\", \"Quantity\": 29.97}, {\"dt_start_dt\": \"2022-01-22T00:00:00\", \"Quantity\": 25.86}, {\"dt_start_dt\": \"2022-01-23T00:00:00\", \"Quantity\": 5.23}, {\"dt_start_dt\": \"2022-01-24T00:00:00\", \"Quantity\": 13.07}, {\"dt_start_dt\": \"2022-01-25T00:00:00\", \"Quantity\": 7.62}, {\"dt_start_dt\": \"2022-01-26T00:00:00\", \"Quantity\": 28.29}, {\"dt_start_dt\": \"2022-01-27T00:00:00\", \"Quantity\": 16.15}, {\"dt_start_dt\": \"2022-01-28T00:00:00\", \"Quantity\": 5.18}, {\"dt_start_dt\": \"2022-01-29T00:00:00\", \"Quantity\": 2.03}, {\"dt_start_dt\": \"2022-01-30T00:00:00\", \"Quantity\": 23.03}, {\"dt_start_dt\": \"2022-01-31T00:00:00\", \"Quantity\": 24.77}, {\"dt_start_dt\": \"2022-02-01T00:00:00\", \"Quantity\": 30.19}, {\"dt_start_dt\": \"2022-02-02T00:00:00\", \"Quantity\": 14.72}, {\"dt_start_dt\": \"2022-02-03T00:00:00\", \"Quantity\": 0.24}, {\"dt_start_dt\": \"2022-02-04T00:00:00\", \"Quantity\": 0.0}, {\"dt_start_dt\": \"2022-02-05T00:00:00\", \"Quantity\": 4.68}, {\"dt_start_dt\": \"2022-02-06T00:00:00\", \"Quantity\": 6.68}, {\"dt_start_dt\": \"2022-02-07T00:00:00\", \"Quantity\": 7.46}, {\"dt_start_dt\": \"2022-02-08T00:00:00\", \"Quantity\": 6.04}, {\"dt_start_dt\": \"2022-02-09T00:00:00\", \"Quantity\": 30.52}, {\"dt_start_dt\": \"2022-02-10T00:00:00\", \"Quantity\": 6.64}, {\"dt_start_dt\": \"2022-02-11T00:00:00\", \"Quantity\": 24.72}, {\"dt_start_dt\": \"2022-02-12T00:00:00\", \"Quantity\": 12.74}, {\"dt_start_dt\": \"2022-02-13T00:00:00\", \"Quantity\": 28.580000000000002}, {\"dt_start_dt\": \"2022-02-14T00:00:00\", \"Quantity\": 24.54}, {\"dt_start_dt\": \"2022-02-15T00:00:00\", \"Quantity\": 30.95}, {\"dt_start_dt\": \"2022-02-16T00:00:00\", \"Quantity\": 20.27}, {\"dt_start_dt\": \"2022-02-17T00:00:00\", \"Quantity\": 10.14}, {\"dt_start_dt\": \"2022-02-18T00:00:00\", \"Quantity\": 5.33}, {\"dt_start_dt\": \"2022-02-19T00:00:00\", \"Quantity\": 4.4799999999999995}, {\"dt_start_dt\": \"2022-02-20T00:00:00\", \"Quantity\": 18.19}, {\"dt_start_dt\": \"2022-02-21T00:00:00\", \"Quantity\": 10.5}, {\"dt_start_dt\": \"2022-02-22T00:00:00\", \"Quantity\": 8.07}, {\"dt_start_dt\": \"2022-02-23T00:00:00\", \"Quantity\": 14.23}, {\"dt_start_dt\": \"2022-02-24T00:00:00\", \"Quantity\": 27.41}, {\"dt_start_dt\": \"2022-02-25T00:00:00\", \"Quantity\": 0.0}, {\"dt_start_dt\": \"2022-02-26T00:00:00\", \"Quantity\": 11.64}, {\"dt_start_dt\": \"2022-02-27T00:00:00\", \"Quantity\": 10.78}, {\"dt_start_dt\": \"2022-02-28T00:00:00\", \"Quantity\": 35.81}, {\"dt_start_dt\": \"2022-03-01T00:00:00\", \"Quantity\": 3.65}, {\"dt_start_dt\": \"2022-03-02T00:00:00\", \"Quantity\": 24.08}, {\"dt_start_dt\": \"2022-03-03T00:00:00\", \"Quantity\": 9.33}, {\"dt_start_dt\": \"2022-03-04T00:00:00\", \"Quantity\": 35.98}, {\"dt_start_dt\": \"2022-03-05T00:00:00\", \"Quantity\": 22.62}, {\"dt_start_dt\": \"2022-03-06T00:00:00\", \"Quantity\": 20.5}, {\"dt_start_dt\": \"2022-03-07T00:00:00\", \"Quantity\": 1.95}, {\"dt_start_dt\": \"2022-03-08T00:00:00\", \"Quantity\": 29.84}, {\"dt_start_dt\": \"2022-03-09T00:00:00\", \"Quantity\": 5.71}, {\"dt_start_dt\": \"2022-03-10T00:00:00\", \"Quantity\": 26.76}, {\"dt_start_dt\": \"2022-03-11T00:00:00\", \"Quantity\": 14.1}, {\"dt_start_dt\": \"2022-03-12T00:00:00\", \"Quantity\": 0.0}, {\"dt_start_dt\": \"2022-03-13T00:00:00\", \"Quantity\": 11.98}, {\"dt_start_dt\": \"2022-03-14T00:00:00\", \"Quantity\": 27.08}, {\"dt_start_dt\": \"2022-03-15T00:00:00\", \"Quantity\": 1.96}, {\"dt_start_dt\": \"2022-03-16T00:00:00\", \"Quantity\": 9.84}, {\"dt_start_dt\": \"2022-03-17T00:00:00\", \"Quantity\": 22.15}, {\"dt_start_dt\": \"2022-03-18T00:00:00\", \"Quantity\": 8.65}, {\"dt_start_dt\": \"2022-03-19T00:00:00\", \"Quantity\": 3.02}, {\"dt_start_dt\": \"2022-03-20T00:00:00\", \"Quantity\": 4.97}, {\"dt_start_dt\": \"2022-03-21T00:00:00\", \"Quantity\": 27.46}]}}, {\"mode\": \"vega-lite\"});\n",
              "</script>"
            ],
            "text/plain": [
              "alt.Chart(...)"
            ]
          },
          "metadata": {}
        }
      ]
    },
    {
      "cell_type": "code",
      "source": [
        ""
      ],
      "metadata": {
        "id": "h2LDXs6F1Ziu"
      },
      "execution_count": null,
      "outputs": []
    }
  ]
}