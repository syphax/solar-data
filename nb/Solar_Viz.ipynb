{
  "nbformat": 4,
  "nbformat_minor": 0,
  "metadata": {
    "colab": {
      "name": "Solar Viz.ipynb",
      "provenance": [],
      "toc_visible": true,
      "authorship_tag": "ABX9TyMSeZIrEDsBmM7NYJ4RJaSs",
      "include_colab_link": true
    },
    "kernelspec": {
      "name": "python3",
      "display_name": "Python 3"
    },
    "language_info": {
      "name": "python"
    }
  },
  "cells": [
    {
      "cell_type": "markdown",
      "metadata": {
        "id": "view-in-github",
        "colab_type": "text"
      },
      "source": [
        "<a href=\"https://colab.research.google.com/github/syphax/solar-data/blob/feb01/nb/Solar_Viz.ipynb\" target=\"_parent\"><img src=\"https://colab.research.google.com/assets/colab-badge.svg\" alt=\"Open In Colab\"/></a>"
      ]
    },
    {
      "cell_type": "markdown",
      "source": [
        "# Intro\n",
        "\n",
        "This notebook analyses and visualizes output from my VT PV system.\n",
        "\n",
        "To run with the provided data, you need Google Drive, and you need to copy the data from https://github.com/syphax/solar-data/tree/main/data to `/My Drive/Data/Solar`\n",
        "\n",
        "_TODO: Load the data directly from the GitHub repo._"
      ],
      "metadata": {
        "id": "EmYiMoVM8HXM"
      }
    },
    {
      "cell_type": "markdown",
      "source": [
        "# Setup"
      ],
      "metadata": {
        "id": "DU_CEsST8PMX"
      }
    },
    {
      "cell_type": "code",
      "source": [
        "import os\n",
        "\n",
        "from datetime import datetime\n",
        "import pytz\n",
        "\n",
        "import numpy as np\n",
        "import pandas as pd\n",
        "\n",
        "import altair as alt\n",
        "import seaborn as sns\n",
        "import matplotlib.pyplot as plt\n"
      ],
      "metadata": {
        "id": "uKzDrxxP9U10"
      },
      "execution_count": null,
      "outputs": []
    },
    {
      "cell_type": "code",
      "source": [
        "from google.colab import drive\n",
        "drive.mount('/content/drive')"
      ],
      "metadata": {
        "id": "86U1U98K8Qlv"
      },
      "execution_count": null,
      "outputs": []
    },
    {
      "cell_type": "markdown",
      "source": [
        "# Load Data\n",
        "\n",
        "This loads data that was downloaded from [Green Mountain Power's website](https://greenmountainpower.com/account/usage/).\n",
        "\n",
        "GMP has an excellent UI for reporting usage, and provides downloadable data in 15 minute increments (either CSV or Green Button XML). *Unfortunately* it only supports manual data downloads in 15 day (max) chunks. \n",
        "\n",
        "This data gets concatenated and cleaned in the `Clean_GMP_Solar_Data.ipynb` script.\n",
        "\n",
        "Fields in the cleaned up dataset are:\n",
        "* `Service`: Is this consumption, generation?\n",
        "* `IntervalStart`: Timestamp; format is `yyyy-MM-dd-hh:mm:ss`\n",
        "* `IntervalEnd`: Same, 15 minutes later. Redundant but explicit!\n",
        "* `dt_start`: IntervalStart, converted to EST (correcting for DST)\n",
        "* `dt_end`: IntervalEnd, converted to EST (correcting for DST)\n",
        "* `Quantity`: Amount of electricity generated\n",
        "* `UnitOfMeasure`: I love that they have an explicit UoM field!\n",
        "* `kWh`: Quantity converted to kWh\n"
      ],
      "metadata": {
        "id": "XBfqPv6mZ5fW"
      }
    },
    {
      "cell_type": "markdown",
      "source": [
        "## Prep"
      ],
      "metadata": {
        "id": "FZbdwZkqpZHx"
      }
    },
    {
      "cell_type": "code",
      "source": [
        "path = '/content/drive/MyDrive/Data/Solar/'"
      ],
      "metadata": {
        "id": "GqBHG7LEabfW"
      },
      "execution_count": null,
      "outputs": []
    },
    {
      "cell_type": "code",
      "source": [
        "# This should list the data files that you copied from https://github.com/syphax/solar-data/tree/main/data\n",
        "!ls $path "
      ],
      "metadata": {
        "id": "0vxr6APx8RdH"
      },
      "execution_count": null,
      "outputs": []
    },
    {
      "cell_type": "code",
      "source": [
        "# We do use the jointed script\n",
        "joined_input_file = os.path.join(path, 'full_dataset.csv')\n"
      ],
      "metadata": {
        "id": "Z_y1Ft8rakt9"
      },
      "execution_count": null,
      "outputs": []
    },
    {
      "cell_type": "markdown",
      "source": [
        "## Load"
      ],
      "metadata": {
        "id": "E7fyTm-opgj8"
      }
    },
    {
      "cell_type": "code",
      "source": [
        "df_energy_data = pd.read_csv(joined_input_file)"
      ],
      "metadata": {
        "id": "y3ofTm8IaNB0"
      },
      "execution_count": null,
      "outputs": []
    },
    {
      "cell_type": "code",
      "source": [
        "from pytz import timezone\n",
        "\n",
        "est = pytz.timezone('US/Eastern')\n",
        "\n",
        "# TODO: Add timezone attribute (note: we adjusted for DST in the pre-process script)\n",
        "\n",
        "for f in ['dt_start', 'dt_end']:\n",
        " df_energy_data[f] = pd.to_datetime(df_energy_data[f], utc=True).dt.tz_convert(est)\n"
      ],
      "metadata": {
        "id": "Fcf2APF95dXt"
      },
      "execution_count": null,
      "outputs": []
    },
    {
      "cell_type": "code",
      "source": [
        "df_solar_data = df_energy_data[df_energy_data['Service']=='NGEN'].copy()"
      ],
      "metadata": {
        "id": "0aWZiPbW2gdh"
      },
      "execution_count": null,
      "outputs": []
    },
    {
      "cell_type": "code",
      "source": [
        "for c in ['dt_start', 'dt_end']:  \n",
        "\n",
        "  # Compute diffs vs prior record\n",
        "  df_solar_data['diff_' + c] = df_solar_data[c].diff()\n",
        "\n",
        "  # Add year, month, day, hour, minutes:\n",
        "\n",
        "  df_solar_data[c + '_year'] = df_solar_data[c].dt.year\n",
        "  df_solar_data[c + '_month'] = df_solar_data[c].dt.month\n",
        "  df_solar_data[c + '_week'] = df_solar_data[c].dt.isocalendar().week\n",
        "  df_solar_data[c + '_2weeks'] = np.ceil(df_solar_data[c].dt.isocalendar().week / 2.0) # Useful resolution\n",
        "  df_solar_data[c + '_day'] = df_solar_data[c].dt.day\n",
        "  \n",
        "  # Altair doesn't like date types very much, so this is basically a rounded datetime\n",
        "  df_solar_data[c + '_dt'] = pd.to_datetime(df_solar_data[c].dt.date)\n",
        "  \n",
        "  df_solar_data[c + '_hour'] = df_solar_data[c].dt.hour\n",
        "  df_solar_data[c + '_minute'] = df_solar_data[c].dt.minute\n",
        "\n",
        "  df_solar_data[c + '_hrmin'] = df_solar_data[c + '_hour'] + df_solar_data[c + '_minute'] / 60.0\n"
      ],
      "metadata": {
        "id": "Mi2epU25rUVF"
      },
      "execution_count": null,
      "outputs": []
    },
    {
      "cell_type": "code",
      "source": [
        "# 15 minute increment:\n",
        "\n",
        "fmt = '%Y-%m-%d-%H:%M:%S'\n",
        "\n",
        "d1 = datetime.strptime('2022-01-01-00:00:00', fmt)\n",
        "d2 = datetime.strptime('2022-01-01-00:15:00', fmt)\n",
        "\n",
        "diff_mins = (d2-d1)"
      ],
      "metadata": {
        "id": "idi3FKoDwrJb"
      },
      "execution_count": null,
      "outputs": []
    },
    {
      "cell_type": "code",
      "source": [
        "# This should show the start of the series, plus some daylight savings impaired records!\n",
        "\n",
        "df_solar_data[df_solar_data['diff_dt_start'] != diff_mins]"
      ],
      "metadata": {
        "id": "KPht1AlewSKh"
      },
      "execution_count": null,
      "outputs": []
    },
    {
      "cell_type": "markdown",
      "source": [
        "# Review"
      ],
      "metadata": {
        "id": "sB9XyBHiqhoc"
      }
    },
    {
      "cell_type": "markdown",
      "source": [
        "# Summarize"
      ],
      "metadata": {
        "id": "TFpXmtRdqjiR"
      }
    },
    {
      "cell_type": "markdown",
      "source": [
        "## Output by Day"
      ],
      "metadata": {
        "id": "Glo7M-QfT2-e"
      }
    },
    {
      "cell_type": "code",
      "source": [
        "df_solar_data_sums_by_day = df_solar_data.groupby(['dt_start_dt'], as_index=False).agg({'Quantity':'sum'})\n",
        "\n",
        "df_solar_data_sums_by_day['rolling_07'] = df_solar_data_sums_by_day['Quantity'].rolling(window=7, center=True).mean()\n",
        "df_solar_data_sums_by_day['rolling_14'] = df_solar_data_sums_by_day['Quantity'].rolling(window=14, center=True).mean()\n",
        "df_solar_data_sums_by_day['rolling_28'] = df_solar_data_sums_by_day['Quantity'].rolling(window=28, center=True).mean()\n",
        "df_solar_data_sums_by_day['rolling_60'] = df_solar_data_sums_by_day['Quantity'].rolling(window=60, center=True).mean()"
      ],
      "metadata": {
        "id": "4uHTlZ072eJl"
      },
      "execution_count": null,
      "outputs": []
    },
    {
      "cell_type": "code",
      "source": [
        "# Time series by day with rolling 60 day average (centered)\n",
        "\n",
        "alt.data_transformers.disable_max_rows()\n",
        "\n",
        "ch_raw = alt.Chart(df_solar_data_sums_by_day).mark_line().encode(\n",
        "    x=alt.X('dt_start_dt:T'),\n",
        "    y=alt.Y('Quantity:Q')\n",
        ")\n",
        "\n",
        "\n",
        "ch_roll = alt.Chart(df_solar_data_sums_by_day).mark_line().encode(\n",
        "    x=alt.X('dt_start_dt:T'),\n",
        "    y=alt.Y('rolling_60:Q'),\n",
        "    color=alt.value(\"#220099\")\n",
        ")\n",
        "\n",
        "ch = ch_raw + ch_roll\n",
        "\n",
        "ch.display()"
      ],
      "metadata": {
        "id": "LybFlgYT0jEf"
      },
      "execution_count": null,
      "outputs": []
    },
    {
      "cell_type": "code",
      "source": [
        "# Distribution of kWh by day, Narrow bins\n",
        "\n",
        "sns.histplot(data=df_solar_data_sums_by_day, x=\"Quantity\", binwidth = 1)"
      ],
      "metadata": {
        "id": "CteQCBCSCP9o"
      },
      "execution_count": null,
      "outputs": []
    },
    {
      "cell_type": "code",
      "source": [
        "# Distribution of kWh by day, Wide bins\n",
        "\n",
        "sns.histplot(data=df_solar_data_sums_by_day, x=\"Quantity\", binwidth = 4)"
      ],
      "metadata": {
        "id": "l6zNs7r4BpRs"
      },
      "execution_count": null,
      "outputs": []
    },
    {
      "cell_type": "code",
      "source": [
        "df_solar_data_sums_by_hour = df_solar_data.groupby(['dt_start_dt', 'dt_start_hour'], as_index=True).agg({'Quantity':'sum'})"
      ],
      "metadata": {
        "id": "4ph8d0fZTb4o"
      },
      "execution_count": null,
      "outputs": []
    },
    {
      "cell_type": "code",
      "source": [
        "# Histogram of production by hour: \n",
        "\n",
        "sns.histplot(data=df_solar_data_sums_by_hour, x=\"Quantity\", binwidth = 0.2)"
      ],
      "metadata": {
        "id": "oDLCpxsZW4-t"
      },
      "execution_count": null,
      "outputs": []
    },
    {
      "cell_type": "code",
      "source": [
        "# Lots of zero hours (night, etc)- let's remove those:\n",
        "\n",
        "sns.histplot(data=df_solar_data_sums_by_hour[df_solar_data_sums_by_hour['Quantity'] > 0.0], x=\"Quantity\", binwidth = 0.2)"
      ],
      "metadata": {
        "id": "jo1MynWrXCOT"
      },
      "execution_count": null,
      "outputs": []
    },
    {
      "cell_type": "code",
      "source": [
        "df_solar_hourly_table = df_solar_data_sums_by_hour.unstack(0).droplevel(0, axis=1)"
      ],
      "metadata": {
        "id": "H03x95AKXeSW"
      },
      "execution_count": null,
      "outputs": []
    },
    {
      "cell_type": "code",
      "source": [
        "# Plot heatmap of date x hour of day\n",
        "# TODO: Need to format dates on x-axis!\n",
        "# TODO: Need to flip y-axis\n",
        "\n",
        "fig, ax = plt.subplots(figsize = (18,6))    \n",
        "fig = sns.heatmap(df_solar_hourly_table)\n"
      ],
      "metadata": {
        "id": "PdYvfaW3Xu2b"
      },
      "execution_count": null,
      "outputs": []
    },
    {
      "cell_type": "code",
      "source": [
        "df_solar_data_sums_by_hour_un = df_solar_data_sums_by_hour.reset_index()"
      ],
      "metadata": {
        "id": "Omx1p5DmOVL3"
      },
      "execution_count": null,
      "outputs": []
    },
    {
      "cell_type": "code",
      "source": [
        "# Average production by hour of day; no adjustments for start, end dates of series:\n",
        "\n",
        "# 2 season - Winter = October - March, inclusive (not quite aligned to equinoxes)\n",
        "\n",
        "df_solar_data_sums_by_hour_un['season_ws'] = 'Winter'\n",
        "df_solar_data_sums_by_hour_un['season_ws'] = np.where((df_solar_data_sums_by_hour_un['dt_start_dt'].dt.month > 3) & \n",
        "                                                      (df_solar_data_sums_by_hour_un['dt_start_dt'].dt.month <=9), \n",
        "                                                      'Summer', df_solar_data_sums_by_hour_un['season_ws'])\n",
        "\n",
        "# Overall sum by hour\n",
        "df_avg_by_hour_all = df_solar_data_sums_by_hour_un.groupby('dt_start_hour', as_index=False).agg({'Quantity':'mean'})\n",
        "df_avg_by_hour_all['season_ws'] = 'All'\n",
        "\n",
        "df_avg_by_hour_ws = df_solar_data_sums_by_hour_un.groupby(['season_ws', 'dt_start_hour'], as_index=False).agg({'Quantity':'mean'})\n",
        "\n",
        "# Append the two together\n",
        "df_avg_by_hour_ws = pd.concat([df_avg_by_hour_all, df_avg_by_hour_ws], axis=0)\n",
        "\n",
        "#df_avg_by_hour_ws.groupby(['season_ws']).agg({'dt_start_hour':'count', 'Quantity':'sum'})\n",
        "\n",
        "display(df_avg_by_hour_ws.groupby(['dt_start_hour', 'season_ws']).agg({'Quantity':'sum'}).unstack(-1))"
      ],
      "metadata": {
        "id": "QPJvU282NYkK"
      },
      "execution_count": null,
      "outputs": []
    },
    {
      "cell_type": "code",
      "source": [
        "# Plot average daily trend\n",
        "\n",
        "df_chart = df_avg_by_hour_ws.reset_index(drop=True) \n",
        "\n",
        "fig, ax = plt.subplots(figsize = (18,6))    \n",
        "\n",
        "fig = sns.lineplot(data=df_chart, x='dt_start_hour', y='Quantity', hue='season_ws')"
      ],
      "metadata": {
        "id": "Us7qnhSJNQ6m"
      },
      "execution_count": null,
      "outputs": []
    },
    {
      "cell_type": "code",
      "source": [
        "df_chart"
      ],
      "metadata": {
        "id": "0E9KZDNkRizu"
      },
      "execution_count": null,
      "outputs": []
    },
    {
      "cell_type": "markdown",
      "source": [
        "# Extras"
      ],
      "metadata": {
        "id": "4LQeNmf0FcOm"
      }
    },
    {
      "cell_type": "code",
      "source": [
        "df_ch = df_solar_data[['dt_start', 'dt_start_year', 'dt_start_month', 'dt_start_day', \n",
        "                       'dt_start_hour', 'dt_start_minute', 'dt_start_hrmin','Quantity']]"
      ],
      "metadata": {
        "id": "hRqAH40I2bUL"
      },
      "execution_count": null,
      "outputs": []
    },
    {
      "cell_type": "code",
      "source": [
        "df_solar_data_sums_by_day.tail(7)"
      ],
      "metadata": {
        "id": "SLJFEXS92bx6"
      },
      "execution_count": null,
      "outputs": []
    },
    {
      "cell_type": "code",
      "source": [],
      "metadata": {
        "id": "h2LDXs6F1Ziu"
      },
      "execution_count": null,
      "outputs": []
    },
    {
      "cell_type": "code",
      "source": [
        "# Altair version (doesn't render in GitHub)\n",
        "\n",
        "# Distribution of outputs by day (small bins)\n",
        "\n",
        "ch_daily_hist = alt.Chart(df_solar_data_sums_by_day).mark_bar().encode(\n",
        "    x = alt.X('Quantity', title='kWh', bin=alt.Bin(extent=[0, 40], step=1)), \n",
        "    y = alt.Y('count()', title='Days'))\n",
        "\n",
        "ch_daily_hist.display()"
      ],
      "metadata": {
        "id": "z_0tmBBBAwzL"
      },
      "execution_count": null,
      "outputs": []
    },
    {
      "cell_type": "code",
      "source": [
        "# Distribution of outputs by day (larger bins)\n",
        "\n",
        "ch_daily_hist = alt.Chart(df_solar_data_sums_by_day).mark_bar().encode(\n",
        "    x = alt.X('Quantity', title='kWh', bin=alt.Bin(extent=[0, 40], step=4)), \n",
        "    y = alt.Y('count()', title='Days'))\n",
        "\n",
        "ch_daily_hist.display()"
      ],
      "metadata": {
        "id": "L1Vr9X99_Jae"
      },
      "execution_count": null,
      "outputs": []
    },
    {
      "cell_type": "code",
      "source": [],
      "metadata": {
        "id": "2z7-xjSJ-OW1"
      },
      "execution_count": null,
      "outputs": []
    }
  ]
}