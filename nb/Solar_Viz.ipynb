{
  "nbformat": 4,
  "nbformat_minor": 0,
  "metadata": {
    "colab": {
      "name": "Solar Viz.ipynb",
      "provenance": [],
      "toc_visible": true,
      "authorship_tag": "ABX9TyMzFjHgk8iBRGqhp3pAJA3q",
      "include_colab_link": true
    },
    "kernelspec": {
      "name": "python3",
      "display_name": "Python 3"
    },
    "language_info": {
      "name": "python"
    }
  },
  "cells": [
    {
      "cell_type": "markdown",
      "metadata": {
        "id": "view-in-github",
        "colab_type": "text"
      },
      "source": [
        "<a href=\"https://colab.research.google.com/github/syphax/solar-data/blob/main/nb/Solar_Viz.ipynb\" target=\"_parent\"><img src=\"https://colab.research.google.com/assets/colab-badge.svg\" alt=\"Open In Colab\"/></a>"
      ]
    },
    {
      "cell_type": "markdown",
      "source": [
        "# Intro\n",
        "\n",
        "This notebook analyses and visualizes output from my VT PV system.\n",
        "\n",
        "To run, you need a Google Drive, and you need to copy the data from https://github.com/syphax/solar-data/tree/main/data to /My Drive/Data/Solar"
      ],
      "metadata": {
        "id": "EmYiMoVM8HXM"
      }
    },
    {
      "cell_type": "markdown",
      "source": [
        "# Setup"
      ],
      "metadata": {
        "id": "DU_CEsST8PMX"
      }
    },
    {
      "cell_type": "code",
      "source": [
        "import os\n",
        "import altair\n",
        "\n",
        "import numpy as np\n",
        "import pandas as pd"
      ],
      "metadata": {
        "id": "uKzDrxxP9U10"
      },
      "execution_count": 1,
      "outputs": []
    },
    {
      "cell_type": "code",
      "source": [
        "from google.colab import drive\n",
        "drive.mount('/content/drive')"
      ],
      "metadata": {
        "id": "86U1U98K8Qlv",
        "outputId": "f2beb3a3-dac5-41ee-abaa-d4cd5a01d6b0",
        "colab": {
          "base_uri": "https://localhost:8080/"
        }
      },
      "execution_count": 2,
      "outputs": [
        {
          "output_type": "stream",
          "name": "stdout",
          "text": [
            "Drive already mounted at /content/drive; to attempt to forcibly remount, call drive.mount(\"/content/drive\", force_remount=True).\n"
          ]
        }
      ]
    },
    {
      "cell_type": "code",
      "source": [
        "# This should list the data files that you copied from https://github.com/syphax/solar-data/tree/main/data\n",
        "!ls /content/drive/MyDrive/Data/Solar"
      ],
      "metadata": {
        "id": "0vxr6APx8RdH",
        "outputId": "e6e69004-700e-4b78-e869-7125e456963c",
        "colab": {
          "base_uri": "https://localhost:8080/"
        }
      },
      "execution_count": 3,
      "outputs": [
        {
          "output_type": "stream",
          "name": "stdout",
          "text": [
            "UsageData_2021-10-24_14Days.csv  UsageData_2022-01-16_15Days.csv\n",
            "UsageData_2021-11-07_12Days.csv  UsageData_2022-01-31_1Days.csv\n",
            "UsageData_2021-11-18_15Days.csv  UsageData_2022-02-01_15Days.csv\n",
            "UsageData_2021-12-02_15Days.csv  UsageData_2022-02-15_14Days.csv\n",
            "UsageData_2021-12-17_15Days.csv  UsageData_2022-03-01_15Days.csv\n",
            "UsageData_2022-01-01_15Days.csv  UsageData_2022-03-13_7Days.csv\n"
          ]
        }
      ]
    },
    {
      "cell_type": "code",
      "source": [
        ""
      ],
      "metadata": {
        "id": "wc67JZRv8cZC"
      },
      "execution_count": 3,
      "outputs": []
    }
  ]
}